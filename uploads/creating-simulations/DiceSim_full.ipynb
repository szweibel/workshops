{
  "metadata": {
    "language_info": {
      "codemirror_mode": {
        "name": "python",
        "version": 3
      },
      "file_extension": ".py",
      "mimetype": "text/x-python",
      "name": "python",
      "nbconvert_exporter": "python",
      "pygments_lexer": "ipython3",
      "version": "3.8"
    },
    "kernelspec": {
      "name": "python",
      "display_name": "Python (Pyodide)",
      "language": "python"
    }
  },
  "nbformat_minor": 4,
  "nbformat": 4,
  "cells": [
    {
      "cell_type": "code",
      "source": "import random\nimport statistics as stats",
      "metadata": {
        "trusted": true
      },
      "execution_count": 1,
      "outputs": []
    },
    {
      "cell_type": "code",
      "source": "class Die:\n    def __init__(self, sides):\n        self.sides = sides\n        \n    def roll(self):\n        return random.randint(1, self.sides)",
      "metadata": {
        "trusted": true
      },
      "execution_count": 2,
      "outputs": []
    },
    {
      "cell_type": "code",
      "source": "die = Die(6)\nprint(die.roll())",
      "metadata": {
        "trusted": true
      },
      "execution_count": 10,
      "outputs": [
        {
          "name": "stdout",
          "text": "6\n",
          "output_type": "stream"
        }
      ]
    },
    {
      "cell_type": "code",
      "source": "class DiceSim:\n    def __init__(self, dice_method, iterations):\n        self.dice_method = dice_method\n        self.iterations = iterations\n        self.results = []\n        self.run()\n        \n        # run our die roll method and store the results\n    def run(self):\n        for i in range(self.iterations):\n            result = self.dice_method()\n            self.results.append(result)\n        self.report()\n\n    # report the results of the analysis\n    def report(self):\n        max_num = max(self.results)\n        min_num = min(self.results)\n        mean = stats.mean(self.results)\n        median = stats.median(self.results)\n        mode = stats.mode(self.results)\n        std_dev = stats.stdev(self.results)\n        variance = stats.variance(self.results)\n        print(\n            f\"\"\"Number of Simulations: {self.iterations}\n            Max: {max_num}\n            Min: {min_num}\n            Mean: {mean}\n            Median: {median}\n            Mode: {mode}\n            Standard Deviation: {std_dev}\n            Variance: {variance}\"\"\"\n        )",
      "metadata": {
        "trusted": true
      },
      "execution_count": 14,
      "outputs": []
    },
    {
      "cell_type": "code",
      "source": "die1 = Die(6)\nsim = DiceSim(die1.roll, 1000)",
      "metadata": {
        "trusted": true
      },
      "execution_count": 15,
      "outputs": [
        {
          "name": "stdout",
          "text": "Number of Simulations: 1000\n            Max: 6\n            Min: 1\n            Mean: 3.486\n            Median: 4.0\n            Mode: 1\n            Standard Deviation: 1.702557694382984\n            Variance: 2.898702702702703\n",
          "output_type": "stream"
        }
      ]
    },
    {
      "cell_type": "code",
      "source": "die1 = Die(6)\nsim = DiceSim(die1.roll, 1000)",
      "metadata": {
        "trusted": true
      },
      "execution_count": 16,
      "outputs": [
        {
          "name": "stdout",
          "text": "Number of Simulations: 1000\n            Max: 6\n            Min: 1\n            Mean: 3.412\n            Median: 3.0\n            Mode: 1\n            Standard Deviation: 1.7237248119195905\n            Variance: 2.971227227227227\n",
          "output_type": "stream"
        }
      ]
    },
    {
      "cell_type": "code",
      "source": "",
      "metadata": {},
      "execution_count": null,
      "outputs": []
    }
  ]
}