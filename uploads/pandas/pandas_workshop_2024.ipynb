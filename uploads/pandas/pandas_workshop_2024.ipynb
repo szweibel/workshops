{
 "cells": [
  {
   "cell_type": "markdown",
   "id": "0mJUyQao17cs",
   "metadata": {
    "id": "0mJUyQao17cs"
   },
   "source": [
    "### Import the Pandas Library"
   ]
  },
  {
   "cell_type": "code",
   "execution_count": 5,
   "id": "da65b00b",
   "metadata": {
    "id": "da65b00b"
   },
   "outputs": [],
   "source": [
    "import pandas as pd"
   ]
  },
  {
   "cell_type": "markdown",
   "id": "3e2f0c17",
   "metadata": {
    "id": "3e2f0c17"
   },
   "source": [
    "\n",
    "### Read in a CSV file as a DataFrame\n"
   ]
  },
  {
   "cell_type": "markdown",
   "id": "30567b5b",
   "metadata": {},
   "source": [
    "We will connect to the dataset directly from this [Github link](https://raw.githubusercontent.com/GC-DRI/DRI24/main/uploads/pandas/refugee-arrivals-by-destination.csv)"
   ]
  },
  {
   "cell_type": "code",
   "execution_count": null,
   "id": "befba988",
   "metadata": {},
   "outputs": [],
   "source": [
    "import pyodide_http # makes it possible to read https links in pyodide\n",
    "pyodide_http.patch_all()"
   ]
  },
  {
   "cell_type": "code",
   "execution_count": 6,
   "id": "36f6601d",
   "metadata": {},
   "outputs": [],
   "source": [
    "url = 'https://raw.githubusercontent.com/GC-DRI/DRI24/main/uploads/pandas/refugee-arrivals-by-destination.csv'"
   ]
  },
  {
   "cell_type": "code",
   "execution_count": 7,
   "id": "e2d9a3fb",
   "metadata": {
    "id": "e2d9a3fb"
   },
   "outputs": [],
   "source": [
    "refugee_df = pd.read_csv(url)"
   ]
  },
  {
   "cell_type": "markdown",
   "id": "7daa1387",
   "metadata": {
    "id": "7daa1387"
   },
   "source": [
    "- With this command, we have created a **Pandas DataFrame** object, which is a 2-dimensional labeled data structure with columns of different types. You can think of it like a spreadsheet or SQL table, or a dictionary of Series objects.\n",
    "- It is common practice to abbreviate DataFrame with “df”, as in refugee_df.  "
   ]
  },
  {
   "cell_type": "markdown",
   "id": "9daafb08",
   "metadata": {
    "id": "9daafb08"
   },
   "source": [
    "---\n",
    "## Data exploration\n",
    "\n",
    "### Display the Dataframe\n",
    "\n",
    "To display the DataFrame, we can run a cell with the variable name of the DataFrame:"
   ]
  },
  {
   "cell_type": "code",
   "execution_count": 8,
   "id": "d419e20b",
   "metadata": {
    "id": "d419e20b",
    "outputId": "d98e12aa-1b8f-4e12-cd5c-53772941ac12"
   },
   "outputs": [
    {
     "data": {
      "text/html": [
       "<div>\n",
       "<style scoped>\n",
       "    .dataframe tbody tr th:only-of-type {\n",
       "        vertical-align: middle;\n",
       "    }\n",
       "\n",
       "    .dataframe tbody tr th {\n",
       "        vertical-align: top;\n",
       "    }\n",
       "\n",
       "    .dataframe thead th {\n",
       "        text-align: right;\n",
       "    }\n",
       "</style>\n",
       "<table border=\"1\" class=\"dataframe\">\n",
       "  <thead>\n",
       "    <tr style=\"text-align: right;\">\n",
       "      <th></th>\n",
       "      <th>year</th>\n",
       "      <th>origin</th>\n",
       "      <th>dest_state</th>\n",
       "      <th>dest_city</th>\n",
       "      <th>arrivals</th>\n",
       "    </tr>\n",
       "  </thead>\n",
       "  <tbody>\n",
       "    <tr>\n",
       "      <th>0</th>\n",
       "      <td>2005</td>\n",
       "      <td>Afghanistan</td>\n",
       "      <td>Alabama</td>\n",
       "      <td>Mobile</td>\n",
       "      <td>0</td>\n",
       "    </tr>\n",
       "    <tr>\n",
       "      <th>1</th>\n",
       "      <td>2006</td>\n",
       "      <td>Afghanistan</td>\n",
       "      <td>Alabama</td>\n",
       "      <td>Mobile</td>\n",
       "      <td>0</td>\n",
       "    </tr>\n",
       "    <tr>\n",
       "      <th>2</th>\n",
       "      <td>2007</td>\n",
       "      <td>Afghanistan</td>\n",
       "      <td>Alabama</td>\n",
       "      <td>Mobile</td>\n",
       "      <td>0</td>\n",
       "    </tr>\n",
       "    <tr>\n",
       "      <th>3</th>\n",
       "      <td>2008</td>\n",
       "      <td>Afghanistan</td>\n",
       "      <td>Alabama</td>\n",
       "      <td>Mobile</td>\n",
       "      <td>0</td>\n",
       "    </tr>\n",
       "    <tr>\n",
       "      <th>4</th>\n",
       "      <td>2009</td>\n",
       "      <td>Afghanistan</td>\n",
       "      <td>Alabama</td>\n",
       "      <td>Mobile</td>\n",
       "      <td>5</td>\n",
       "    </tr>\n",
       "    <tr>\n",
       "      <th>...</th>\n",
       "      <td>...</td>\n",
       "      <td>...</td>\n",
       "      <td>...</td>\n",
       "      <td>...</td>\n",
       "      <td>...</td>\n",
       "    </tr>\n",
       "    <tr>\n",
       "      <th>121240</th>\n",
       "      <td>2011</td>\n",
       "      <td>Vietnam</td>\n",
       "      <td>Wisconsin</td>\n",
       "      <td>Milwaukee</td>\n",
       "      <td>0</td>\n",
       "    </tr>\n",
       "    <tr>\n",
       "      <th>121241</th>\n",
       "      <td>2012</td>\n",
       "      <td>Vietnam</td>\n",
       "      <td>Wisconsin</td>\n",
       "      <td>Milwaukee</td>\n",
       "      <td>4</td>\n",
       "    </tr>\n",
       "    <tr>\n",
       "      <th>121242</th>\n",
       "      <td>2013</td>\n",
       "      <td>Vietnam</td>\n",
       "      <td>Wisconsin</td>\n",
       "      <td>Milwaukee</td>\n",
       "      <td>2</td>\n",
       "    </tr>\n",
       "    <tr>\n",
       "      <th>121243</th>\n",
       "      <td>2014</td>\n",
       "      <td>Vietnam</td>\n",
       "      <td>Wisconsin</td>\n",
       "      <td>Milwaukee</td>\n",
       "      <td>0</td>\n",
       "    </tr>\n",
       "    <tr>\n",
       "      <th>121244</th>\n",
       "      <td>2015</td>\n",
       "      <td>Vietnam</td>\n",
       "      <td>Wisconsin</td>\n",
       "      <td>Milwaukee</td>\n",
       "      <td>0</td>\n",
       "    </tr>\n",
       "  </tbody>\n",
       "</table>\n",
       "<p>121245 rows × 5 columns</p>\n",
       "</div>"
      ],
      "text/plain": [
       "        year       origin dest_state  dest_city  arrivals\n",
       "0       2005  Afghanistan    Alabama     Mobile         0\n",
       "1       2006  Afghanistan    Alabama     Mobile         0\n",
       "2       2007  Afghanistan    Alabama     Mobile         0\n",
       "3       2008  Afghanistan    Alabama     Mobile         0\n",
       "4       2009  Afghanistan    Alabama     Mobile         5\n",
       "...      ...          ...        ...        ...       ...\n",
       "121240  2011      Vietnam  Wisconsin  Milwaukee         0\n",
       "121241  2012      Vietnam  Wisconsin  Milwaukee         4\n",
       "121242  2013      Vietnam  Wisconsin  Milwaukee         2\n",
       "121243  2014      Vietnam  Wisconsin  Milwaukee         0\n",
       "121244  2015      Vietnam  Wisconsin  Milwaukee         0\n",
       "\n",
       "[121245 rows x 5 columns]"
      ]
     },
     "execution_count": 8,
     "metadata": {},
     "output_type": "execute_result"
    }
   ],
   "source": [
    "refugee_df"
   ]
  },
  {
   "cell_type": "markdown",
   "id": "ea7f2e78",
   "metadata": {
    "id": "ea7f2e78"
   },
   "source": [
    "---\n",
    "### Display a selection of the Dataframe\n",
    "We can also display the first 2 rows of the DataFrame with the `.head()` method"
   ]
  },
  {
   "cell_type": "code",
   "execution_count": 9,
   "id": "ffc1c1b0",
   "metadata": {
    "id": "ffc1c1b0",
    "outputId": "cf955b25-8e52-47b7-f60a-fa9794c4142a"
   },
   "outputs": [
    {
     "data": {
      "text/html": [
       "<div>\n",
       "<style scoped>\n",
       "    .dataframe tbody tr th:only-of-type {\n",
       "        vertical-align: middle;\n",
       "    }\n",
       "\n",
       "    .dataframe tbody tr th {\n",
       "        vertical-align: top;\n",
       "    }\n",
       "\n",
       "    .dataframe thead th {\n",
       "        text-align: right;\n",
       "    }\n",
       "</style>\n",
       "<table border=\"1\" class=\"dataframe\">\n",
       "  <thead>\n",
       "    <tr style=\"text-align: right;\">\n",
       "      <th></th>\n",
       "      <th>year</th>\n",
       "      <th>origin</th>\n",
       "      <th>dest_state</th>\n",
       "      <th>dest_city</th>\n",
       "      <th>arrivals</th>\n",
       "    </tr>\n",
       "  </thead>\n",
       "  <tbody>\n",
       "    <tr>\n",
       "      <th>0</th>\n",
       "      <td>2005</td>\n",
       "      <td>Afghanistan</td>\n",
       "      <td>Alabama</td>\n",
       "      <td>Mobile</td>\n",
       "      <td>0</td>\n",
       "    </tr>\n",
       "    <tr>\n",
       "      <th>1</th>\n",
       "      <td>2006</td>\n",
       "      <td>Afghanistan</td>\n",
       "      <td>Alabama</td>\n",
       "      <td>Mobile</td>\n",
       "      <td>0</td>\n",
       "    </tr>\n",
       "  </tbody>\n",
       "</table>\n",
       "</div>"
      ],
      "text/plain": [
       "   year       origin dest_state dest_city  arrivals\n",
       "0  2005  Afghanistan    Alabama    Mobile         0\n",
       "1  2006  Afghanistan    Alabama    Mobile         0"
      ]
     },
     "execution_count": 9,
     "metadata": {},
     "output_type": "execute_result"
    }
   ],
   "source": [
    "refugee_df.head(2)"
   ]
  },
  {
   "cell_type": "markdown",
   "id": "b98dd4f6",
   "metadata": {
    "id": "b98dd4f6"
   },
   "source": [
    "</br>\n",
    "We can accomplish the same task using a slice instead:"
   ]
  },
  {
   "cell_type": "code",
   "execution_count": 10,
   "id": "45d391e1",
   "metadata": {
    "id": "45d391e1",
    "outputId": "2154b7b9-1a12-46cd-afd7-6d3bf54e1b26"
   },
   "outputs": [
    {
     "data": {
      "text/html": [
       "<div>\n",
       "<style scoped>\n",
       "    .dataframe tbody tr th:only-of-type {\n",
       "        vertical-align: middle;\n",
       "    }\n",
       "\n",
       "    .dataframe tbody tr th {\n",
       "        vertical-align: top;\n",
       "    }\n",
       "\n",
       "    .dataframe thead th {\n",
       "        text-align: right;\n",
       "    }\n",
       "</style>\n",
       "<table border=\"1\" class=\"dataframe\">\n",
       "  <thead>\n",
       "    <tr style=\"text-align: right;\">\n",
       "      <th></th>\n",
       "      <th>year</th>\n",
       "      <th>origin</th>\n",
       "      <th>dest_state</th>\n",
       "      <th>dest_city</th>\n",
       "      <th>arrivals</th>\n",
       "    </tr>\n",
       "  </thead>\n",
       "  <tbody>\n",
       "    <tr>\n",
       "      <th>0</th>\n",
       "      <td>2005</td>\n",
       "      <td>Afghanistan</td>\n",
       "      <td>Alabama</td>\n",
       "      <td>Mobile</td>\n",
       "      <td>0</td>\n",
       "    </tr>\n",
       "    <tr>\n",
       "      <th>1</th>\n",
       "      <td>2006</td>\n",
       "      <td>Afghanistan</td>\n",
       "      <td>Alabama</td>\n",
       "      <td>Mobile</td>\n",
       "      <td>0</td>\n",
       "    </tr>\n",
       "  </tbody>\n",
       "</table>\n",
       "</div>"
      ],
      "text/plain": [
       "   year       origin dest_state dest_city  arrivals\n",
       "0  2005  Afghanistan    Alabama    Mobile         0\n",
       "1  2006  Afghanistan    Alabama    Mobile         0"
      ]
     },
     "execution_count": 10,
     "metadata": {},
     "output_type": "execute_result"
    }
   ],
   "source": [
    "refugee_df[:2]"
   ]
  },
  {
   "cell_type": "markdown",
   "id": "b2ee6910",
   "metadata": {
    "id": "b2ee6910"
   },
   "source": [
    "</br>\n",
    "We can also display the last 10 rows of the DataFrame with the `.tail()` method"
   ]
  },
  {
   "cell_type": "code",
   "execution_count": 11,
   "id": "0df4234f",
   "metadata": {
    "id": "0df4234f",
    "outputId": "8dd36537-8b57-4aff-b4b1-35e239420f48"
   },
   "outputs": [
    {
     "data": {
      "text/html": [
       "<div>\n",
       "<style scoped>\n",
       "    .dataframe tbody tr th:only-of-type {\n",
       "        vertical-align: middle;\n",
       "    }\n",
       "\n",
       "    .dataframe tbody tr th {\n",
       "        vertical-align: top;\n",
       "    }\n",
       "\n",
       "    .dataframe thead th {\n",
       "        text-align: right;\n",
       "    }\n",
       "</style>\n",
       "<table border=\"1\" class=\"dataframe\">\n",
       "  <thead>\n",
       "    <tr style=\"text-align: right;\">\n",
       "      <th></th>\n",
       "      <th>year</th>\n",
       "      <th>origin</th>\n",
       "      <th>dest_state</th>\n",
       "      <th>dest_city</th>\n",
       "      <th>arrivals</th>\n",
       "    </tr>\n",
       "  </thead>\n",
       "  <tbody>\n",
       "    <tr>\n",
       "      <th>121235</th>\n",
       "      <td>2006</td>\n",
       "      <td>Vietnam</td>\n",
       "      <td>Wisconsin</td>\n",
       "      <td>Milwaukee</td>\n",
       "      <td>5</td>\n",
       "    </tr>\n",
       "    <tr>\n",
       "      <th>121236</th>\n",
       "      <td>2007</td>\n",
       "      <td>Vietnam</td>\n",
       "      <td>Wisconsin</td>\n",
       "      <td>Milwaukee</td>\n",
       "      <td>18</td>\n",
       "    </tr>\n",
       "    <tr>\n",
       "      <th>121237</th>\n",
       "      <td>2008</td>\n",
       "      <td>Vietnam</td>\n",
       "      <td>Wisconsin</td>\n",
       "      <td>Milwaukee</td>\n",
       "      <td>12</td>\n",
       "    </tr>\n",
       "    <tr>\n",
       "      <th>121238</th>\n",
       "      <td>2009</td>\n",
       "      <td>Vietnam</td>\n",
       "      <td>Wisconsin</td>\n",
       "      <td>Milwaukee</td>\n",
       "      <td>4</td>\n",
       "    </tr>\n",
       "    <tr>\n",
       "      <th>121239</th>\n",
       "      <td>2010</td>\n",
       "      <td>Vietnam</td>\n",
       "      <td>Wisconsin</td>\n",
       "      <td>Milwaukee</td>\n",
       "      <td>7</td>\n",
       "    </tr>\n",
       "    <tr>\n",
       "      <th>121240</th>\n",
       "      <td>2011</td>\n",
       "      <td>Vietnam</td>\n",
       "      <td>Wisconsin</td>\n",
       "      <td>Milwaukee</td>\n",
       "      <td>0</td>\n",
       "    </tr>\n",
       "    <tr>\n",
       "      <th>121241</th>\n",
       "      <td>2012</td>\n",
       "      <td>Vietnam</td>\n",
       "      <td>Wisconsin</td>\n",
       "      <td>Milwaukee</td>\n",
       "      <td>4</td>\n",
       "    </tr>\n",
       "    <tr>\n",
       "      <th>121242</th>\n",
       "      <td>2013</td>\n",
       "      <td>Vietnam</td>\n",
       "      <td>Wisconsin</td>\n",
       "      <td>Milwaukee</td>\n",
       "      <td>2</td>\n",
       "    </tr>\n",
       "    <tr>\n",
       "      <th>121243</th>\n",
       "      <td>2014</td>\n",
       "      <td>Vietnam</td>\n",
       "      <td>Wisconsin</td>\n",
       "      <td>Milwaukee</td>\n",
       "      <td>0</td>\n",
       "    </tr>\n",
       "    <tr>\n",
       "      <th>121244</th>\n",
       "      <td>2015</td>\n",
       "      <td>Vietnam</td>\n",
       "      <td>Wisconsin</td>\n",
       "      <td>Milwaukee</td>\n",
       "      <td>0</td>\n",
       "    </tr>\n",
       "  </tbody>\n",
       "</table>\n",
       "</div>"
      ],
      "text/plain": [
       "        year   origin dest_state  dest_city  arrivals\n",
       "121235  2006  Vietnam  Wisconsin  Milwaukee         5\n",
       "121236  2007  Vietnam  Wisconsin  Milwaukee        18\n",
       "121237  2008  Vietnam  Wisconsin  Milwaukee        12\n",
       "121238  2009  Vietnam  Wisconsin  Milwaukee         4\n",
       "121239  2010  Vietnam  Wisconsin  Milwaukee         7\n",
       "121240  2011  Vietnam  Wisconsin  Milwaukee         0\n",
       "121241  2012  Vietnam  Wisconsin  Milwaukee         4\n",
       "121242  2013  Vietnam  Wisconsin  Milwaukee         2\n",
       "121243  2014  Vietnam  Wisconsin  Milwaukee         0\n",
       "121244  2015  Vietnam  Wisconsin  Milwaukee         0"
      ]
     },
     "execution_count": 11,
     "metadata": {},
     "output_type": "execute_result"
    }
   ],
   "source": [
    "refugee_df.tail(10)"
   ]
  },
  {
   "cell_type": "markdown",
   "id": "92bf5efc",
   "metadata": {
    "id": "92bf5efc"
   },
   "source": [
    "</br>\n",
    "We can accomplish the same task using a slice instead:"
   ]
  },
  {
   "cell_type": "code",
   "execution_count": 12,
   "id": "3e090aba",
   "metadata": {
    "id": "3e090aba",
    "outputId": "23e81b02-0e0a-489d-c3fc-f5e24b59d8f2"
   },
   "outputs": [
    {
     "data": {
      "text/html": [
       "<div>\n",
       "<style scoped>\n",
       "    .dataframe tbody tr th:only-of-type {\n",
       "        vertical-align: middle;\n",
       "    }\n",
       "\n",
       "    .dataframe tbody tr th {\n",
       "        vertical-align: top;\n",
       "    }\n",
       "\n",
       "    .dataframe thead th {\n",
       "        text-align: right;\n",
       "    }\n",
       "</style>\n",
       "<table border=\"1\" class=\"dataframe\">\n",
       "  <thead>\n",
       "    <tr style=\"text-align: right;\">\n",
       "      <th></th>\n",
       "      <th>year</th>\n",
       "      <th>origin</th>\n",
       "      <th>dest_state</th>\n",
       "      <th>dest_city</th>\n",
       "      <th>arrivals</th>\n",
       "    </tr>\n",
       "  </thead>\n",
       "  <tbody>\n",
       "    <tr>\n",
       "      <th>121235</th>\n",
       "      <td>2006</td>\n",
       "      <td>Vietnam</td>\n",
       "      <td>Wisconsin</td>\n",
       "      <td>Milwaukee</td>\n",
       "      <td>5</td>\n",
       "    </tr>\n",
       "    <tr>\n",
       "      <th>121236</th>\n",
       "      <td>2007</td>\n",
       "      <td>Vietnam</td>\n",
       "      <td>Wisconsin</td>\n",
       "      <td>Milwaukee</td>\n",
       "      <td>18</td>\n",
       "    </tr>\n",
       "    <tr>\n",
       "      <th>121237</th>\n",
       "      <td>2008</td>\n",
       "      <td>Vietnam</td>\n",
       "      <td>Wisconsin</td>\n",
       "      <td>Milwaukee</td>\n",
       "      <td>12</td>\n",
       "    </tr>\n",
       "    <tr>\n",
       "      <th>121238</th>\n",
       "      <td>2009</td>\n",
       "      <td>Vietnam</td>\n",
       "      <td>Wisconsin</td>\n",
       "      <td>Milwaukee</td>\n",
       "      <td>4</td>\n",
       "    </tr>\n",
       "    <tr>\n",
       "      <th>121239</th>\n",
       "      <td>2010</td>\n",
       "      <td>Vietnam</td>\n",
       "      <td>Wisconsin</td>\n",
       "      <td>Milwaukee</td>\n",
       "      <td>7</td>\n",
       "    </tr>\n",
       "    <tr>\n",
       "      <th>121240</th>\n",
       "      <td>2011</td>\n",
       "      <td>Vietnam</td>\n",
       "      <td>Wisconsin</td>\n",
       "      <td>Milwaukee</td>\n",
       "      <td>0</td>\n",
       "    </tr>\n",
       "    <tr>\n",
       "      <th>121241</th>\n",
       "      <td>2012</td>\n",
       "      <td>Vietnam</td>\n",
       "      <td>Wisconsin</td>\n",
       "      <td>Milwaukee</td>\n",
       "      <td>4</td>\n",
       "    </tr>\n",
       "    <tr>\n",
       "      <th>121242</th>\n",
       "      <td>2013</td>\n",
       "      <td>Vietnam</td>\n",
       "      <td>Wisconsin</td>\n",
       "      <td>Milwaukee</td>\n",
       "      <td>2</td>\n",
       "    </tr>\n",
       "    <tr>\n",
       "      <th>121243</th>\n",
       "      <td>2014</td>\n",
       "      <td>Vietnam</td>\n",
       "      <td>Wisconsin</td>\n",
       "      <td>Milwaukee</td>\n",
       "      <td>0</td>\n",
       "    </tr>\n",
       "    <tr>\n",
       "      <th>121244</th>\n",
       "      <td>2015</td>\n",
       "      <td>Vietnam</td>\n",
       "      <td>Wisconsin</td>\n",
       "      <td>Milwaukee</td>\n",
       "      <td>0</td>\n",
       "    </tr>\n",
       "  </tbody>\n",
       "</table>\n",
       "</div>"
      ],
      "text/plain": [
       "        year   origin dest_state  dest_city  arrivals\n",
       "121235  2006  Vietnam  Wisconsin  Milwaukee         5\n",
       "121236  2007  Vietnam  Wisconsin  Milwaukee        18\n",
       "121237  2008  Vietnam  Wisconsin  Milwaukee        12\n",
       "121238  2009  Vietnam  Wisconsin  Milwaukee         4\n",
       "121239  2010  Vietnam  Wisconsin  Milwaukee         7\n",
       "121240  2011  Vietnam  Wisconsin  Milwaukee         0\n",
       "121241  2012  Vietnam  Wisconsin  Milwaukee         4\n",
       "121242  2013  Vietnam  Wisconsin  Milwaukee         2\n",
       "121243  2014  Vietnam  Wisconsin  Milwaukee         0\n",
       "121244  2015  Vietnam  Wisconsin  Milwaukee         0"
      ]
     },
     "execution_count": 12,
     "metadata": {},
     "output_type": "execute_result"
    }
   ],
   "source": [
    "refugee_df[-10:]"
   ]
  },
  {
   "cell_type": "markdown",
   "id": "228389cc",
   "metadata": {
    "id": "228389cc"
   },
   "source": [
    "---\n",
    "### Display a random sample of the Dataframe"
   ]
  },
  {
   "cell_type": "markdown",
   "id": "88340b0e",
   "metadata": {
    "id": "88340b0e"
   },
   "source": [
    "We can also look at a random sample of data with the `.sample()` method"
   ]
  },
  {
   "cell_type": "code",
   "execution_count": 13,
   "id": "6c8c322b",
   "metadata": {
    "id": "6c8c322b",
    "outputId": "588a9325-5820-4ef0-923e-e81f98dc9bb4"
   },
   "outputs": [
    {
     "data": {
      "text/html": [
       "<div>\n",
       "<style scoped>\n",
       "    .dataframe tbody tr th:only-of-type {\n",
       "        vertical-align: middle;\n",
       "    }\n",
       "\n",
       "    .dataframe tbody tr th {\n",
       "        vertical-align: top;\n",
       "    }\n",
       "\n",
       "    .dataframe thead th {\n",
       "        text-align: right;\n",
       "    }\n",
       "</style>\n",
       "<table border=\"1\" class=\"dataframe\">\n",
       "  <thead>\n",
       "    <tr style=\"text-align: right;\">\n",
       "      <th></th>\n",
       "      <th>year</th>\n",
       "      <th>origin</th>\n",
       "      <th>dest_state</th>\n",
       "      <th>dest_city</th>\n",
       "      <th>arrivals</th>\n",
       "    </tr>\n",
       "  </thead>\n",
       "  <tbody>\n",
       "    <tr>\n",
       "      <th>93276</th>\n",
       "      <td>2009</td>\n",
       "      <td>Iraq</td>\n",
       "      <td>Pennsylvania</td>\n",
       "      <td>Clifton Heights</td>\n",
       "      <td>6</td>\n",
       "    </tr>\n",
       "    <tr>\n",
       "      <th>5363</th>\n",
       "      <td>2008</td>\n",
       "      <td>Burma</td>\n",
       "      <td>California</td>\n",
       "      <td>Newark</td>\n",
       "      <td>3</td>\n",
       "    </tr>\n",
       "    <tr>\n",
       "      <th>44787</th>\n",
       "      <td>2008</td>\n",
       "      <td>Rwanda</td>\n",
       "      <td>Kentucky</td>\n",
       "      <td>Lexington</td>\n",
       "      <td>0</td>\n",
       "    </tr>\n",
       "    <tr>\n",
       "      <th>32384</th>\n",
       "      <td>2013</td>\n",
       "      <td>Liberia</td>\n",
       "      <td>Georgia</td>\n",
       "      <td>Ellenwood</td>\n",
       "      <td>0</td>\n",
       "    </tr>\n",
       "    <tr>\n",
       "      <th>112492</th>\n",
       "      <td>2008</td>\n",
       "      <td>Rwanda</td>\n",
       "      <td>Virginia</td>\n",
       "      <td>Virginia Beach</td>\n",
       "      <td>0</td>\n",
       "    </tr>\n",
       "    <tr>\n",
       "      <th>46013</th>\n",
       "      <td>2013</td>\n",
       "      <td>Sierra Leone</td>\n",
       "      <td>Louisiana</td>\n",
       "      <td>Baton Rouge</td>\n",
       "      <td>0</td>\n",
       "    </tr>\n",
       "    <tr>\n",
       "      <th>36814</th>\n",
       "      <td>2010</td>\n",
       "      <td>Iran</td>\n",
       "      <td>Illinois</td>\n",
       "      <td>Lincolnwood</td>\n",
       "      <td>0</td>\n",
       "    </tr>\n",
       "    <tr>\n",
       "      <th>42418</th>\n",
       "      <td>2015</td>\n",
       "      <td>Pakistan</td>\n",
       "      <td>Iowa</td>\n",
       "      <td>Des Moines</td>\n",
       "      <td>0</td>\n",
       "    </tr>\n",
       "    <tr>\n",
       "      <th>62822</th>\n",
       "      <td>2014</td>\n",
       "      <td>Latvia</td>\n",
       "      <td>Minnesota</td>\n",
       "      <td>Chaska</td>\n",
       "      <td>0</td>\n",
       "    </tr>\n",
       "    <tr>\n",
       "      <th>8575</th>\n",
       "      <td>2008</td>\n",
       "      <td>Iran</td>\n",
       "      <td>California</td>\n",
       "      <td>Fair Oaks</td>\n",
       "      <td>5</td>\n",
       "    </tr>\n",
       "    <tr>\n",
       "      <th>96036</th>\n",
       "      <td>2008</td>\n",
       "      <td>Vietnam</td>\n",
       "      <td>Pennsylvania</td>\n",
       "      <td>Irwin</td>\n",
       "      <td>0</td>\n",
       "    </tr>\n",
       "    <tr>\n",
       "      <th>30298</th>\n",
       "      <td>2006</td>\n",
       "      <td>China</td>\n",
       "      <td>Georgia</td>\n",
       "      <td>Johns Creek</td>\n",
       "      <td>0</td>\n",
       "    </tr>\n",
       "    <tr>\n",
       "      <th>108659</th>\n",
       "      <td>2014</td>\n",
       "      <td>Nepal</td>\n",
       "      <td>Vermont</td>\n",
       "      <td>Burlington</td>\n",
       "      <td>0</td>\n",
       "    </tr>\n",
       "    <tr>\n",
       "      <th>90025</th>\n",
       "      <td>2014</td>\n",
       "      <td>Iraq</td>\n",
       "      <td>Oregon</td>\n",
       "      <td>Aloha</td>\n",
       "      <td>0</td>\n",
       "    </tr>\n",
       "    <tr>\n",
       "      <th>36918</th>\n",
       "      <td>2015</td>\n",
       "      <td>Iran</td>\n",
       "      <td>Illinois</td>\n",
       "      <td>Norridge</td>\n",
       "      <td>0</td>\n",
       "    </tr>\n",
       "  </tbody>\n",
       "</table>\n",
       "</div>"
      ],
      "text/plain": [
       "        year        origin    dest_state        dest_city  arrivals\n",
       "93276   2009          Iraq  Pennsylvania  Clifton Heights         6\n",
       "5363    2008         Burma    California           Newark         3\n",
       "44787   2008        Rwanda      Kentucky        Lexington         0\n",
       "32384   2013       Liberia       Georgia        Ellenwood         0\n",
       "112492  2008        Rwanda      Virginia   Virginia Beach         0\n",
       "46013   2013  Sierra Leone     Louisiana      Baton Rouge         0\n",
       "36814   2010          Iran      Illinois      Lincolnwood         0\n",
       "42418   2015      Pakistan          Iowa       Des Moines         0\n",
       "62822   2014        Latvia     Minnesota           Chaska         0\n",
       "8575    2008          Iran    California        Fair Oaks         5\n",
       "96036   2008       Vietnam  Pennsylvania            Irwin         0\n",
       "30298   2006         China       Georgia      Johns Creek         0\n",
       "108659  2014         Nepal       Vermont       Burlington         0\n",
       "90025   2014          Iraq        Oregon            Aloha         0\n",
       "36918   2015          Iran      Illinois         Norridge         0"
      ]
     },
     "execution_count": 13,
     "metadata": {},
     "output_type": "execute_result"
    }
   ],
   "source": [
    "refugee_df.sample(15)"
   ]
  },
  {
   "cell_type": "markdown",
   "id": "9068b6b8",
   "metadata": {
    "id": "9068b6b8"
   },
   "source": [
    "We can tell it's a random sample since the index numbers are completly disorganized."
   ]
  },
  {
   "cell_type": "markdown",
   "id": "a8fd1633",
   "metadata": {
    "id": "a8fd1633"
   },
   "source": [
    "---\n",
    "## Basic data cleaning"
   ]
  },
  {
   "cell_type": "markdown",
   "id": "2ef0aa26",
   "metadata": {
    "id": "2ef0aa26"
   },
   "source": [
    "### Data Types\n",
    "\n",
    "We can get information about the columns in the DataFrame by using the `.info()` method."
   ]
  },
  {
   "cell_type": "code",
   "execution_count": 14,
   "id": "c16c633b",
   "metadata": {
    "id": "c16c633b",
    "outputId": "1172e14a-56a9-40d5-f577-62b7f5df0579"
   },
   "outputs": [
    {
     "name": "stdout",
     "output_type": "stream",
     "text": [
      "<class 'pandas.core.frame.DataFrame'>\n",
      "RangeIndex: 121245 entries, 0 to 121244\n",
      "Data columns (total 5 columns):\n",
      " #   Column      Non-Null Count   Dtype \n",
      "---  ------      --------------   ----- \n",
      " 0   year        121245 non-null  int64 \n",
      " 1   origin      121245 non-null  object\n",
      " 2   dest_state  121245 non-null  object\n",
      " 3   dest_city   121245 non-null  object\n",
      " 4   arrivals    121245 non-null  int64 \n",
      "dtypes: int64(2), object(3)\n",
      "memory usage: 4.6+ MB\n"
     ]
    }
   ],
   "source": [
    "refugee_df.info()"
   ]
  },
  {
   "cell_type": "markdown",
   "id": "b1b6fc39",
   "metadata": {
    "id": "b1b6fc39"
   },
   "source": [
    "\n",
    "### Converting data types"
   ]
  },
  {
   "cell_type": "code",
   "execution_count": 15,
   "id": "cb96ca93",
   "metadata": {
    "id": "cb96ca93"
   },
   "outputs": [],
   "source": [
    "refugee_df['year'] = pd.to_datetime(refugee_df['year'], format=\"%Y\")"
   ]
  },
  {
   "cell_type": "markdown",
   "id": "de4671d6",
   "metadata": {
    "id": "de4671d6"
   },
   "source": [
    "We can then check to see if the data type was properly converted using the `.dtypes` object, which is similar to the `.info()` method, except it only provides information on data types."
   ]
  },
  {
   "cell_type": "code",
   "execution_count": 16,
   "id": "47936375",
   "metadata": {
    "id": "47936375",
    "outputId": "271b21f7-6132-4185-9925-02a3698db997"
   },
   "outputs": [
    {
     "data": {
      "text/plain": [
       "year          datetime64[ns]\n",
       "origin                object\n",
       "dest_state            object\n",
       "dest_city             object\n",
       "arrivals               int64\n",
       "dtype: object"
      ]
     },
     "execution_count": 16,
     "metadata": {},
     "output_type": "execute_result"
    }
   ],
   "source": [
    "refugee_df.dtypes"
   ]
  },
  {
   "cell_type": "markdown",
   "id": "MNel7tHh1o8P",
   "metadata": {
    "id": "MNel7tHh1o8P"
   },
   "source": [
    "\n",
    "\n",
    "### Check for duplicate rows"
   ]
  },
  {
   "cell_type": "code",
   "execution_count": 17,
   "id": "a3cb6597",
   "metadata": {
    "id": "a3cb6597",
    "outputId": "f8ccc400-9562-4e11-af79-21024ccad099"
   },
   "outputs": [
    {
     "data": {
      "text/html": [
       "<div>\n",
       "<style scoped>\n",
       "    .dataframe tbody tr th:only-of-type {\n",
       "        vertical-align: middle;\n",
       "    }\n",
       "\n",
       "    .dataframe tbody tr th {\n",
       "        vertical-align: top;\n",
       "    }\n",
       "\n",
       "    .dataframe thead th {\n",
       "        text-align: right;\n",
       "    }\n",
       "</style>\n",
       "<table border=\"1\" class=\"dataframe\">\n",
       "  <thead>\n",
       "    <tr style=\"text-align: right;\">\n",
       "      <th></th>\n",
       "      <th>year</th>\n",
       "      <th>origin</th>\n",
       "      <th>dest_state</th>\n",
       "      <th>dest_city</th>\n",
       "      <th>arrivals</th>\n",
       "    </tr>\n",
       "  </thead>\n",
       "  <tbody>\n",
       "    <tr>\n",
       "      <th>13</th>\n",
       "      <td>2007-01-01</td>\n",
       "      <td>Burma</td>\n",
       "      <td>Alabama</td>\n",
       "      <td>Auburn</td>\n",
       "      <td>0</td>\n",
       "    </tr>\n",
       "    <tr>\n",
       "      <th>14</th>\n",
       "      <td>2008-01-01</td>\n",
       "      <td>Burma</td>\n",
       "      <td>Alabama</td>\n",
       "      <td>Auburn</td>\n",
       "      <td>0</td>\n",
       "    </tr>\n",
       "    <tr>\n",
       "      <th>15</th>\n",
       "      <td>2009-01-01</td>\n",
       "      <td>Burma</td>\n",
       "      <td>Alabama</td>\n",
       "      <td>Auburn</td>\n",
       "      <td>0</td>\n",
       "    </tr>\n",
       "    <tr>\n",
       "      <th>16</th>\n",
       "      <td>2010-01-01</td>\n",
       "      <td>Burma</td>\n",
       "      <td>Alabama</td>\n",
       "      <td>Auburn</td>\n",
       "      <td>0</td>\n",
       "    </tr>\n",
       "    <tr>\n",
       "      <th>17</th>\n",
       "      <td>2007-01-01</td>\n",
       "      <td>Burma</td>\n",
       "      <td>Alabama</td>\n",
       "      <td>Auburn</td>\n",
       "      <td>0</td>\n",
       "    </tr>\n",
       "    <tr>\n",
       "      <th>18</th>\n",
       "      <td>2008-01-01</td>\n",
       "      <td>Burma</td>\n",
       "      <td>Alabama</td>\n",
       "      <td>Auburn</td>\n",
       "      <td>0</td>\n",
       "    </tr>\n",
       "    <tr>\n",
       "      <th>19</th>\n",
       "      <td>2009-01-01</td>\n",
       "      <td>Burma</td>\n",
       "      <td>Alabama</td>\n",
       "      <td>Auburn</td>\n",
       "      <td>0</td>\n",
       "    </tr>\n",
       "    <tr>\n",
       "      <th>20</th>\n",
       "      <td>2010-01-01</td>\n",
       "      <td>Burma</td>\n",
       "      <td>Alabama</td>\n",
       "      <td>Auburn</td>\n",
       "      <td>0</td>\n",
       "    </tr>\n",
       "    <tr>\n",
       "      <th>155</th>\n",
       "      <td>2013-01-01</td>\n",
       "      <td>Cuba</td>\n",
       "      <td>Alabama</td>\n",
       "      <td>Russellville</td>\n",
       "      <td>0</td>\n",
       "    </tr>\n",
       "    <tr>\n",
       "      <th>156</th>\n",
       "      <td>2014-01-01</td>\n",
       "      <td>Cuba</td>\n",
       "      <td>Alabama</td>\n",
       "      <td>Russellville</td>\n",
       "      <td>0</td>\n",
       "    </tr>\n",
       "    <tr>\n",
       "      <th>157</th>\n",
       "      <td>2015-01-01</td>\n",
       "      <td>Cuba</td>\n",
       "      <td>Alabama</td>\n",
       "      <td>Russellville</td>\n",
       "      <td>0</td>\n",
       "    </tr>\n",
       "    <tr>\n",
       "      <th>158</th>\n",
       "      <td>2005-01-01</td>\n",
       "      <td>Cuba</td>\n",
       "      <td>Alabama</td>\n",
       "      <td>Theodore</td>\n",
       "      <td>0</td>\n",
       "    </tr>\n",
       "    <tr>\n",
       "      <th>159</th>\n",
       "      <td>2006-01-01</td>\n",
       "      <td>Cuba</td>\n",
       "      <td>Alabama</td>\n",
       "      <td>Theodore</td>\n",
       "      <td>0</td>\n",
       "    </tr>\n",
       "    <tr>\n",
       "      <th>160</th>\n",
       "      <td>2013-01-01</td>\n",
       "      <td>Cuba</td>\n",
       "      <td>Alabama</td>\n",
       "      <td>Russellville</td>\n",
       "      <td>0</td>\n",
       "    </tr>\n",
       "    <tr>\n",
       "      <th>161</th>\n",
       "      <td>2014-01-01</td>\n",
       "      <td>Cuba</td>\n",
       "      <td>Alabama</td>\n",
       "      <td>Russellville</td>\n",
       "      <td>0</td>\n",
       "    </tr>\n",
       "    <tr>\n",
       "      <th>162</th>\n",
       "      <td>2015-01-01</td>\n",
       "      <td>Cuba</td>\n",
       "      <td>Alabama</td>\n",
       "      <td>Russellville</td>\n",
       "      <td>0</td>\n",
       "    </tr>\n",
       "    <tr>\n",
       "      <th>163</th>\n",
       "      <td>2005-01-01</td>\n",
       "      <td>Cuba</td>\n",
       "      <td>Alabama</td>\n",
       "      <td>Theodore</td>\n",
       "      <td>0</td>\n",
       "    </tr>\n",
       "    <tr>\n",
       "      <th>164</th>\n",
       "      <td>2006-01-01</td>\n",
       "      <td>Cuba</td>\n",
       "      <td>Alabama</td>\n",
       "      <td>Theodore</td>\n",
       "      <td>0</td>\n",
       "    </tr>\n",
       "    <tr>\n",
       "      <th>236</th>\n",
       "      <td>2012-01-01</td>\n",
       "      <td>Iran</td>\n",
       "      <td>Alabama</td>\n",
       "      <td>Mobile</td>\n",
       "      <td>1</td>\n",
       "    </tr>\n",
       "    <tr>\n",
       "      <th>237</th>\n",
       "      <td>2013-01-01</td>\n",
       "      <td>Iran</td>\n",
       "      <td>Alabama</td>\n",
       "      <td>Mobile</td>\n",
       "      <td>6</td>\n",
       "    </tr>\n",
       "    <tr>\n",
       "      <th>238</th>\n",
       "      <td>2014-01-01</td>\n",
       "      <td>Iran</td>\n",
       "      <td>Alabama</td>\n",
       "      <td>Mobile</td>\n",
       "      <td>3</td>\n",
       "    </tr>\n",
       "    <tr>\n",
       "      <th>239</th>\n",
       "      <td>2015-01-01</td>\n",
       "      <td>Iran</td>\n",
       "      <td>Alabama</td>\n",
       "      <td>Mobile</td>\n",
       "      <td>5</td>\n",
       "    </tr>\n",
       "    <tr>\n",
       "      <th>240</th>\n",
       "      <td>2005-01-01</td>\n",
       "      <td>Iran</td>\n",
       "      <td>Alabama</td>\n",
       "      <td>Pelham</td>\n",
       "      <td>0</td>\n",
       "    </tr>\n",
       "    <tr>\n",
       "      <th>247</th>\n",
       "      <td>2012-01-01</td>\n",
       "      <td>Iran</td>\n",
       "      <td>Alabama</td>\n",
       "      <td>Mobile</td>\n",
       "      <td>1</td>\n",
       "    </tr>\n",
       "    <tr>\n",
       "      <th>248</th>\n",
       "      <td>2013-01-01</td>\n",
       "      <td>Iran</td>\n",
       "      <td>Alabama</td>\n",
       "      <td>Mobile</td>\n",
       "      <td>6</td>\n",
       "    </tr>\n",
       "    <tr>\n",
       "      <th>249</th>\n",
       "      <td>2014-01-01</td>\n",
       "      <td>Iran</td>\n",
       "      <td>Alabama</td>\n",
       "      <td>Mobile</td>\n",
       "      <td>3</td>\n",
       "    </tr>\n",
       "    <tr>\n",
       "      <th>250</th>\n",
       "      <td>2015-01-01</td>\n",
       "      <td>Iran</td>\n",
       "      <td>Alabama</td>\n",
       "      <td>Mobile</td>\n",
       "      <td>5</td>\n",
       "    </tr>\n",
       "    <tr>\n",
       "      <th>251</th>\n",
       "      <td>2005-01-01</td>\n",
       "      <td>Iran</td>\n",
       "      <td>Alabama</td>\n",
       "      <td>Pelham</td>\n",
       "      <td>0</td>\n",
       "    </tr>\n",
       "  </tbody>\n",
       "</table>\n",
       "</div>"
      ],
      "text/plain": [
       "          year origin dest_state     dest_city  arrivals\n",
       "13  2007-01-01  Burma    Alabama        Auburn         0\n",
       "14  2008-01-01  Burma    Alabama        Auburn         0\n",
       "15  2009-01-01  Burma    Alabama        Auburn         0\n",
       "16  2010-01-01  Burma    Alabama        Auburn         0\n",
       "17  2007-01-01  Burma    Alabama        Auburn         0\n",
       "18  2008-01-01  Burma    Alabama        Auburn         0\n",
       "19  2009-01-01  Burma    Alabama        Auburn         0\n",
       "20  2010-01-01  Burma    Alabama        Auburn         0\n",
       "155 2013-01-01   Cuba    Alabama  Russellville         0\n",
       "156 2014-01-01   Cuba    Alabama  Russellville         0\n",
       "157 2015-01-01   Cuba    Alabama  Russellville         0\n",
       "158 2005-01-01   Cuba    Alabama      Theodore         0\n",
       "159 2006-01-01   Cuba    Alabama      Theodore         0\n",
       "160 2013-01-01   Cuba    Alabama  Russellville         0\n",
       "161 2014-01-01   Cuba    Alabama  Russellville         0\n",
       "162 2015-01-01   Cuba    Alabama  Russellville         0\n",
       "163 2005-01-01   Cuba    Alabama      Theodore         0\n",
       "164 2006-01-01   Cuba    Alabama      Theodore         0\n",
       "236 2012-01-01   Iran    Alabama        Mobile         1\n",
       "237 2013-01-01   Iran    Alabama        Mobile         6\n",
       "238 2014-01-01   Iran    Alabama        Mobile         3\n",
       "239 2015-01-01   Iran    Alabama        Mobile         5\n",
       "240 2005-01-01   Iran    Alabama        Pelham         0\n",
       "247 2012-01-01   Iran    Alabama        Mobile         1\n",
       "248 2013-01-01   Iran    Alabama        Mobile         6\n",
       "249 2014-01-01   Iran    Alabama        Mobile         3\n",
       "250 2015-01-01   Iran    Alabama        Mobile         5\n",
       "251 2005-01-01   Iran    Alabama        Pelham         0"
      ]
     },
     "execution_count": 17,
     "metadata": {},
     "output_type": "execute_result"
    }
   ],
   "source": [
    "refugee_df[refugee_df.duplicated(keep=False)]"
   ]
  },
  {
   "cell_type": "markdown",
   "id": "Tp5e5U3i1o8P",
   "metadata": {
    "id": "Tp5e5U3i1o8P"
   },
   "source": [
    "Looks like we have a few duplicate rows in our dataset.\n",
    "\n",
    "To remove those duplicates, we can use the `.drop_duplicates()` method to drop duplicates from the DataFrame and select to keep the first instance of the duplicate or the last instance:"
   ]
  },
  {
   "cell_type": "code",
   "execution_count": 18,
   "id": "J_i9JaWy1o8P",
   "metadata": {
    "id": "J_i9JaWy1o8P"
   },
   "outputs": [],
   "source": [
    "refugee_df = refugee_df.drop_duplicates(keep='first')"
   ]
  },
  {
   "cell_type": "markdown",
   "id": "nsDRdt6m1o8P",
   "metadata": {
    "id": "nsDRdt6m1o8P"
   },
   "source": [
    "We can check to see if the command got rid of the duplicate rows by running the .duplicated() method again:"
   ]
  },
  {
   "cell_type": "code",
   "execution_count": 19,
   "id": "UKCxC8QX1o8P",
   "metadata": {
    "id": "UKCxC8QX1o8P",
    "outputId": "77014e9f-40d1-4deb-ad84-eb355d86008a"
   },
   "outputs": [
    {
     "data": {
      "text/html": [
       "<div>\n",
       "<style scoped>\n",
       "    .dataframe tbody tr th:only-of-type {\n",
       "        vertical-align: middle;\n",
       "    }\n",
       "\n",
       "    .dataframe tbody tr th {\n",
       "        vertical-align: top;\n",
       "    }\n",
       "\n",
       "    .dataframe thead th {\n",
       "        text-align: right;\n",
       "    }\n",
       "</style>\n",
       "<table border=\"1\" class=\"dataframe\">\n",
       "  <thead>\n",
       "    <tr style=\"text-align: right;\">\n",
       "      <th></th>\n",
       "      <th>year</th>\n",
       "      <th>origin</th>\n",
       "      <th>dest_state</th>\n",
       "      <th>dest_city</th>\n",
       "      <th>arrivals</th>\n",
       "    </tr>\n",
       "  </thead>\n",
       "  <tbody>\n",
       "  </tbody>\n",
       "</table>\n",
       "</div>"
      ],
      "text/plain": [
       "Empty DataFrame\n",
       "Columns: [year, origin, dest_state, dest_city, arrivals]\n",
       "Index: []"
      ]
     },
     "execution_count": 19,
     "metadata": {},
     "output_type": "execute_result"
    }
   ],
   "source": [
    "refugee_df[refugee_df.duplicated(keep=False)]"
   ]
  },
  {
   "cell_type": "markdown",
   "id": "zacDUsNp1o8P",
   "metadata": {
    "id": "zacDUsNp1o8P"
   },
   "source": [
    "Great news! We successfully removed our duplicate rows!\n",
    "\n",
    "## Rename, select, drop, filter and add new columns\n",
    "### See list of columns\n",
    "\n",
    "To see a full list of the columns in our DataFrame, we can run the following command:"
   ]
  },
  {
   "cell_type": "code",
   "execution_count": 20,
   "id": "R4et4HAy1o8T",
   "metadata": {
    "id": "R4et4HAy1o8T",
    "outputId": "518eec71-16ed-4b1e-d2bb-a6c133fa4273"
   },
   "outputs": [
    {
     "data": {
      "text/plain": [
       "Index(['year', 'origin', 'dest_state', 'dest_city', 'arrivals'], dtype='object')"
      ]
     },
     "execution_count": 20,
     "metadata": {},
     "output_type": "execute_result"
    }
   ],
   "source": [
    "refugee_df.columns"
   ]
  },
  {
   "cell_type": "markdown",
   "id": "4BYETm1I1o8T",
   "metadata": {
    "id": "4BYETm1I1o8T"
   },
   "source": [
    "Our DataFrame has relatively few columns, so seeing the full list is not absolutely necessary in our case. This step becomes important when you are working with DataFrames with many columns.\n",
    "\n",
    "### Rename columns\n",
    "\n",
    "To improve the readability of our dataset, we can rename columns. In our case, let’s rename “dest_state” as “state” and “dest_city” as “city”. We will use the `.rename()` method and the columns= parameter. Note that in this case we are setting the DataFrame equal to the returned value of the method so as to save the results into the DataFrame."
   ]
  },
  {
   "cell_type": "code",
   "execution_count": 21,
   "id": "E_UW976O1o8U",
   "metadata": {
    "id": "E_UW976O1o8U",
    "outputId": "a9800eff-e030-4de9-b982-8092c2ca7976"
   },
   "outputs": [
    {
     "data": {
      "text/html": [
       "<div>\n",
       "<style scoped>\n",
       "    .dataframe tbody tr th:only-of-type {\n",
       "        vertical-align: middle;\n",
       "    }\n",
       "\n",
       "    .dataframe tbody tr th {\n",
       "        vertical-align: top;\n",
       "    }\n",
       "\n",
       "    .dataframe thead th {\n",
       "        text-align: right;\n",
       "    }\n",
       "</style>\n",
       "<table border=\"1\" class=\"dataframe\">\n",
       "  <thead>\n",
       "    <tr style=\"text-align: right;\">\n",
       "      <th></th>\n",
       "      <th>year</th>\n",
       "      <th>origin</th>\n",
       "      <th>state</th>\n",
       "      <th>city</th>\n",
       "      <th>arrivals</th>\n",
       "    </tr>\n",
       "  </thead>\n",
       "  <tbody>\n",
       "    <tr>\n",
       "      <th>0</th>\n",
       "      <td>2005-01-01</td>\n",
       "      <td>Afghanistan</td>\n",
       "      <td>Alabama</td>\n",
       "      <td>Mobile</td>\n",
       "      <td>0</td>\n",
       "    </tr>\n",
       "    <tr>\n",
       "      <th>1</th>\n",
       "      <td>2006-01-01</td>\n",
       "      <td>Afghanistan</td>\n",
       "      <td>Alabama</td>\n",
       "      <td>Mobile</td>\n",
       "      <td>0</td>\n",
       "    </tr>\n",
       "    <tr>\n",
       "      <th>2</th>\n",
       "      <td>2007-01-01</td>\n",
       "      <td>Afghanistan</td>\n",
       "      <td>Alabama</td>\n",
       "      <td>Mobile</td>\n",
       "      <td>0</td>\n",
       "    </tr>\n",
       "    <tr>\n",
       "      <th>3</th>\n",
       "      <td>2008-01-01</td>\n",
       "      <td>Afghanistan</td>\n",
       "      <td>Alabama</td>\n",
       "      <td>Mobile</td>\n",
       "      <td>0</td>\n",
       "    </tr>\n",
       "    <tr>\n",
       "      <th>4</th>\n",
       "      <td>2009-01-01</td>\n",
       "      <td>Afghanistan</td>\n",
       "      <td>Alabama</td>\n",
       "      <td>Mobile</td>\n",
       "      <td>5</td>\n",
       "    </tr>\n",
       "    <tr>\n",
       "      <th>...</th>\n",
       "      <td>...</td>\n",
       "      <td>...</td>\n",
       "      <td>...</td>\n",
       "      <td>...</td>\n",
       "      <td>...</td>\n",
       "    </tr>\n",
       "    <tr>\n",
       "      <th>121240</th>\n",
       "      <td>2011-01-01</td>\n",
       "      <td>Vietnam</td>\n",
       "      <td>Wisconsin</td>\n",
       "      <td>Milwaukee</td>\n",
       "      <td>0</td>\n",
       "    </tr>\n",
       "    <tr>\n",
       "      <th>121241</th>\n",
       "      <td>2012-01-01</td>\n",
       "      <td>Vietnam</td>\n",
       "      <td>Wisconsin</td>\n",
       "      <td>Milwaukee</td>\n",
       "      <td>4</td>\n",
       "    </tr>\n",
       "    <tr>\n",
       "      <th>121242</th>\n",
       "      <td>2013-01-01</td>\n",
       "      <td>Vietnam</td>\n",
       "      <td>Wisconsin</td>\n",
       "      <td>Milwaukee</td>\n",
       "      <td>2</td>\n",
       "    </tr>\n",
       "    <tr>\n",
       "      <th>121243</th>\n",
       "      <td>2014-01-01</td>\n",
       "      <td>Vietnam</td>\n",
       "      <td>Wisconsin</td>\n",
       "      <td>Milwaukee</td>\n",
       "      <td>0</td>\n",
       "    </tr>\n",
       "    <tr>\n",
       "      <th>121244</th>\n",
       "      <td>2015-01-01</td>\n",
       "      <td>Vietnam</td>\n",
       "      <td>Wisconsin</td>\n",
       "      <td>Milwaukee</td>\n",
       "      <td>0</td>\n",
       "    </tr>\n",
       "  </tbody>\n",
       "</table>\n",
       "<p>121231 rows × 5 columns</p>\n",
       "</div>"
      ],
      "text/plain": [
       "             year       origin      state       city  arrivals\n",
       "0      2005-01-01  Afghanistan    Alabama     Mobile         0\n",
       "1      2006-01-01  Afghanistan    Alabama     Mobile         0\n",
       "2      2007-01-01  Afghanistan    Alabama     Mobile         0\n",
       "3      2008-01-01  Afghanistan    Alabama     Mobile         0\n",
       "4      2009-01-01  Afghanistan    Alabama     Mobile         5\n",
       "...           ...          ...        ...        ...       ...\n",
       "121240 2011-01-01      Vietnam  Wisconsin  Milwaukee         0\n",
       "121241 2012-01-01      Vietnam  Wisconsin  Milwaukee         4\n",
       "121242 2013-01-01      Vietnam  Wisconsin  Milwaukee         2\n",
       "121243 2014-01-01      Vietnam  Wisconsin  Milwaukee         0\n",
       "121244 2015-01-01      Vietnam  Wisconsin  Milwaukee         0\n",
       "\n",
       "[121231 rows x 5 columns]"
      ]
     },
     "execution_count": 21,
     "metadata": {},
     "output_type": "execute_result"
    }
   ],
   "source": [
    "refugee_df=refugee_df.rename(columns={'dest_state': 'state','dest_city':'city' })\n",
    "refugee_df"
   ]
  },
  {
   "cell_type": "markdown",
   "id": "ZByJl4R71o8U",
   "metadata": {
    "id": "ZByJl4R71o8U"
   },
   "source": [
    "### Select columns\n",
    "\n",
    "Let’s say we wanted to view data from just one column in the DataFrame. To do this, we could run the following command:"
   ]
  },
  {
   "cell_type": "code",
   "execution_count": 22,
   "id": "7omYh7ES1o8U",
   "metadata": {
    "id": "7omYh7ES1o8U",
    "outputId": "ec6520f7-4bbd-40e3-bd34-126a6172f136"
   },
   "outputs": [
    {
     "data": {
      "text/html": [
       "<div>\n",
       "<style scoped>\n",
       "    .dataframe tbody tr th:only-of-type {\n",
       "        vertical-align: middle;\n",
       "    }\n",
       "\n",
       "    .dataframe tbody tr th {\n",
       "        vertical-align: top;\n",
       "    }\n",
       "\n",
       "    .dataframe thead th {\n",
       "        text-align: right;\n",
       "    }\n",
       "</style>\n",
       "<table border=\"1\" class=\"dataframe\">\n",
       "  <thead>\n",
       "    <tr style=\"text-align: right;\">\n",
       "      <th></th>\n",
       "      <th>state</th>\n",
       "    </tr>\n",
       "  </thead>\n",
       "  <tbody>\n",
       "    <tr>\n",
       "      <th>0</th>\n",
       "      <td>Alabama</td>\n",
       "    </tr>\n",
       "    <tr>\n",
       "      <th>1</th>\n",
       "      <td>Alabama</td>\n",
       "    </tr>\n",
       "    <tr>\n",
       "      <th>2</th>\n",
       "      <td>Alabama</td>\n",
       "    </tr>\n",
       "    <tr>\n",
       "      <th>3</th>\n",
       "      <td>Alabama</td>\n",
       "    </tr>\n",
       "    <tr>\n",
       "      <th>4</th>\n",
       "      <td>Alabama</td>\n",
       "    </tr>\n",
       "    <tr>\n",
       "      <th>...</th>\n",
       "      <td>...</td>\n",
       "    </tr>\n",
       "    <tr>\n",
       "      <th>121240</th>\n",
       "      <td>Wisconsin</td>\n",
       "    </tr>\n",
       "    <tr>\n",
       "      <th>121241</th>\n",
       "      <td>Wisconsin</td>\n",
       "    </tr>\n",
       "    <tr>\n",
       "      <th>121242</th>\n",
       "      <td>Wisconsin</td>\n",
       "    </tr>\n",
       "    <tr>\n",
       "      <th>121243</th>\n",
       "      <td>Wisconsin</td>\n",
       "    </tr>\n",
       "    <tr>\n",
       "      <th>121244</th>\n",
       "      <td>Wisconsin</td>\n",
       "    </tr>\n",
       "  </tbody>\n",
       "</table>\n",
       "<p>121231 rows × 1 columns</p>\n",
       "</div>"
      ],
      "text/plain": [
       "            state\n",
       "0         Alabama\n",
       "1         Alabama\n",
       "2         Alabama\n",
       "3         Alabama\n",
       "4         Alabama\n",
       "...           ...\n",
       "121240  Wisconsin\n",
       "121241  Wisconsin\n",
       "121242  Wisconsin\n",
       "121243  Wisconsin\n",
       "121244  Wisconsin\n",
       "\n",
       "[121231 rows x 1 columns]"
      ]
     },
     "execution_count": 22,
     "metadata": {},
     "output_type": "execute_result"
    }
   ],
   "source": [
    "refugee_df[['state']]"
   ]
  },
  {
   "cell_type": "markdown",
   "id": "2B_unXlY1o8U",
   "metadata": {
    "id": "2B_unXlY1o8U"
   },
   "source": [
    "Here we use double brackets around the column name to transform the column from a Series object into a DataFrame. Basically, the interior brackets are for lists, and the outside brackets are indexing operators. If you are curious to see the difference, try the following command instead: refugee_df['state'].\n",
    "\n",
    "To view additional columns at the same time, you can add them to the list within the square brackets, separated by a comma. However, you can’t select multiple columns as a Series (try: refugee_df['state','city'])"
   ]
  },
  {
   "cell_type": "code",
   "execution_count": 23,
   "id": "FRiHqjXR1o8U",
   "metadata": {
    "id": "FRiHqjXR1o8U",
    "outputId": "34fa59e8-a3c3-4d8e-9936-293790ba921a"
   },
   "outputs": [
    {
     "data": {
      "text/html": [
       "<div>\n",
       "<style scoped>\n",
       "    .dataframe tbody tr th:only-of-type {\n",
       "        vertical-align: middle;\n",
       "    }\n",
       "\n",
       "    .dataframe tbody tr th {\n",
       "        vertical-align: top;\n",
       "    }\n",
       "\n",
       "    .dataframe thead th {\n",
       "        text-align: right;\n",
       "    }\n",
       "</style>\n",
       "<table border=\"1\" class=\"dataframe\">\n",
       "  <thead>\n",
       "    <tr style=\"text-align: right;\">\n",
       "      <th></th>\n",
       "      <th>state</th>\n",
       "      <th>city</th>\n",
       "    </tr>\n",
       "  </thead>\n",
       "  <tbody>\n",
       "    <tr>\n",
       "      <th>0</th>\n",
       "      <td>Alabama</td>\n",
       "      <td>Mobile</td>\n",
       "    </tr>\n",
       "    <tr>\n",
       "      <th>1</th>\n",
       "      <td>Alabama</td>\n",
       "      <td>Mobile</td>\n",
       "    </tr>\n",
       "    <tr>\n",
       "      <th>2</th>\n",
       "      <td>Alabama</td>\n",
       "      <td>Mobile</td>\n",
       "    </tr>\n",
       "    <tr>\n",
       "      <th>3</th>\n",
       "      <td>Alabama</td>\n",
       "      <td>Mobile</td>\n",
       "    </tr>\n",
       "    <tr>\n",
       "      <th>4</th>\n",
       "      <td>Alabama</td>\n",
       "      <td>Mobile</td>\n",
       "    </tr>\n",
       "    <tr>\n",
       "      <th>...</th>\n",
       "      <td>...</td>\n",
       "      <td>...</td>\n",
       "    </tr>\n",
       "    <tr>\n",
       "      <th>121240</th>\n",
       "      <td>Wisconsin</td>\n",
       "      <td>Milwaukee</td>\n",
       "    </tr>\n",
       "    <tr>\n",
       "      <th>121241</th>\n",
       "      <td>Wisconsin</td>\n",
       "      <td>Milwaukee</td>\n",
       "    </tr>\n",
       "    <tr>\n",
       "      <th>121242</th>\n",
       "      <td>Wisconsin</td>\n",
       "      <td>Milwaukee</td>\n",
       "    </tr>\n",
       "    <tr>\n",
       "      <th>121243</th>\n",
       "      <td>Wisconsin</td>\n",
       "      <td>Milwaukee</td>\n",
       "    </tr>\n",
       "    <tr>\n",
       "      <th>121244</th>\n",
       "      <td>Wisconsin</td>\n",
       "      <td>Milwaukee</td>\n",
       "    </tr>\n",
       "  </tbody>\n",
       "</table>\n",
       "<p>121231 rows × 2 columns</p>\n",
       "</div>"
      ],
      "text/plain": [
       "            state       city\n",
       "0         Alabama     Mobile\n",
       "1         Alabama     Mobile\n",
       "2         Alabama     Mobile\n",
       "3         Alabama     Mobile\n",
       "4         Alabama     Mobile\n",
       "...           ...        ...\n",
       "121240  Wisconsin  Milwaukee\n",
       "121241  Wisconsin  Milwaukee\n",
       "121242  Wisconsin  Milwaukee\n",
       "121243  Wisconsin  Milwaukee\n",
       "121244  Wisconsin  Milwaukee\n",
       "\n",
       "[121231 rows x 2 columns]"
      ]
     },
     "execution_count": 23,
     "metadata": {},
     "output_type": "execute_result"
    }
   ],
   "source": [
    "refugee_df[['state','city']]"
   ]
  },
  {
   "cell_type": "markdown",
   "id": "e8h7wfPq1o8U",
   "metadata": {
    "id": "e8h7wfPq1o8U"
   },
   "source": [
    "### Drop columns\n",
    "\n",
    "To remove a column from the DataFrame, we can use the `.drop()` method and include the column name. In our case, we could drop the “city” column and save the result as a new DataFrame “refugee_drop_df” so we don’t override our original DataFrame."
   ]
  },
  {
   "cell_type": "code",
   "execution_count": 24,
   "id": "_yVuKTNn1o8U",
   "metadata": {
    "id": "_yVuKTNn1o8U"
   },
   "outputs": [],
   "source": [
    "refugee_drop_city_df = refugee_df.drop(columns=\"city\")"
   ]
  },
  {
   "cell_type": "code",
   "execution_count": 25,
   "id": "PQg3PJ4M1o8U",
   "metadata": {
    "id": "PQg3PJ4M1o8U",
    "outputId": "d19b503d-ca66-497d-cdad-1fd10d90824d"
   },
   "outputs": [
    {
     "data": {
      "text/html": [
       "<div>\n",
       "<style scoped>\n",
       "    .dataframe tbody tr th:only-of-type {\n",
       "        vertical-align: middle;\n",
       "    }\n",
       "\n",
       "    .dataframe tbody tr th {\n",
       "        vertical-align: top;\n",
       "    }\n",
       "\n",
       "    .dataframe thead th {\n",
       "        text-align: right;\n",
       "    }\n",
       "</style>\n",
       "<table border=\"1\" class=\"dataframe\">\n",
       "  <thead>\n",
       "    <tr style=\"text-align: right;\">\n",
       "      <th></th>\n",
       "      <th>year</th>\n",
       "      <th>origin</th>\n",
       "      <th>state</th>\n",
       "      <th>arrivals</th>\n",
       "    </tr>\n",
       "  </thead>\n",
       "  <tbody>\n",
       "    <tr>\n",
       "      <th>0</th>\n",
       "      <td>2005-01-01</td>\n",
       "      <td>Afghanistan</td>\n",
       "      <td>Alabama</td>\n",
       "      <td>0</td>\n",
       "    </tr>\n",
       "    <tr>\n",
       "      <th>1</th>\n",
       "      <td>2006-01-01</td>\n",
       "      <td>Afghanistan</td>\n",
       "      <td>Alabama</td>\n",
       "      <td>0</td>\n",
       "    </tr>\n",
       "    <tr>\n",
       "      <th>2</th>\n",
       "      <td>2007-01-01</td>\n",
       "      <td>Afghanistan</td>\n",
       "      <td>Alabama</td>\n",
       "      <td>0</td>\n",
       "    </tr>\n",
       "    <tr>\n",
       "      <th>3</th>\n",
       "      <td>2008-01-01</td>\n",
       "      <td>Afghanistan</td>\n",
       "      <td>Alabama</td>\n",
       "      <td>0</td>\n",
       "    </tr>\n",
       "    <tr>\n",
       "      <th>4</th>\n",
       "      <td>2009-01-01</td>\n",
       "      <td>Afghanistan</td>\n",
       "      <td>Alabama</td>\n",
       "      <td>5</td>\n",
       "    </tr>\n",
       "    <tr>\n",
       "      <th>...</th>\n",
       "      <td>...</td>\n",
       "      <td>...</td>\n",
       "      <td>...</td>\n",
       "      <td>...</td>\n",
       "    </tr>\n",
       "    <tr>\n",
       "      <th>121240</th>\n",
       "      <td>2011-01-01</td>\n",
       "      <td>Vietnam</td>\n",
       "      <td>Wisconsin</td>\n",
       "      <td>0</td>\n",
       "    </tr>\n",
       "    <tr>\n",
       "      <th>121241</th>\n",
       "      <td>2012-01-01</td>\n",
       "      <td>Vietnam</td>\n",
       "      <td>Wisconsin</td>\n",
       "      <td>4</td>\n",
       "    </tr>\n",
       "    <tr>\n",
       "      <th>121242</th>\n",
       "      <td>2013-01-01</td>\n",
       "      <td>Vietnam</td>\n",
       "      <td>Wisconsin</td>\n",
       "      <td>2</td>\n",
       "    </tr>\n",
       "    <tr>\n",
       "      <th>121243</th>\n",
       "      <td>2014-01-01</td>\n",
       "      <td>Vietnam</td>\n",
       "      <td>Wisconsin</td>\n",
       "      <td>0</td>\n",
       "    </tr>\n",
       "    <tr>\n",
       "      <th>121244</th>\n",
       "      <td>2015-01-01</td>\n",
       "      <td>Vietnam</td>\n",
       "      <td>Wisconsin</td>\n",
       "      <td>0</td>\n",
       "    </tr>\n",
       "  </tbody>\n",
       "</table>\n",
       "<p>121231 rows × 4 columns</p>\n",
       "</div>"
      ],
      "text/plain": [
       "             year       origin      state  arrivals\n",
       "0      2005-01-01  Afghanistan    Alabama         0\n",
       "1      2006-01-01  Afghanistan    Alabama         0\n",
       "2      2007-01-01  Afghanistan    Alabama         0\n",
       "3      2008-01-01  Afghanistan    Alabama         0\n",
       "4      2009-01-01  Afghanistan    Alabama         5\n",
       "...           ...          ...        ...       ...\n",
       "121240 2011-01-01      Vietnam  Wisconsin         0\n",
       "121241 2012-01-01      Vietnam  Wisconsin         4\n",
       "121242 2013-01-01      Vietnam  Wisconsin         2\n",
       "121243 2014-01-01      Vietnam  Wisconsin         0\n",
       "121244 2015-01-01      Vietnam  Wisconsin         0\n",
       "\n",
       "[121231 rows x 4 columns]"
      ]
     },
     "execution_count": 25,
     "metadata": {},
     "output_type": "execute_result"
    }
   ],
   "source": [
    "refugee_drop_city_df"
   ]
  },
  {
   "cell_type": "markdown",
   "id": "DQUCz3Qk1o8U",
   "metadata": {
    "id": "DQUCz3Qk1o8U"
   },
   "source": [
    "### Filter columns\n",
    "\n",
    "We can filter a Pandas DataFrame to select only certain values. Filtering data by certain values is similar to selecting columns.\n",
    "\n",
    "We type the name of the DataFrame followed by square brackets and then, instead of inserting a column name, we insert a True/False condition. For example, to select only rows that contain the value “Iraq”, we could run the following command:"
   ]
  },
  {
   "cell_type": "code",
   "execution_count": 26,
   "id": "stEyyzuk1o8U",
   "metadata": {
    "id": "stEyyzuk1o8U"
   },
   "outputs": [],
   "source": [
    "refugee_iraq_df = refugee_df[refugee_df['origin'] == 'Iraq']"
   ]
  },
  {
   "cell_type": "code",
   "execution_count": 27,
   "id": "JfLvw6Ri1o8U",
   "metadata": {
    "id": "JfLvw6Ri1o8U",
    "outputId": "bca6bcf5-4290-4876-e53e-dd92e8a6b91a"
   },
   "outputs": [
    {
     "data": {
      "text/html": [
       "<div>\n",
       "<style scoped>\n",
       "    .dataframe tbody tr th:only-of-type {\n",
       "        vertical-align: middle;\n",
       "    }\n",
       "\n",
       "    .dataframe tbody tr th {\n",
       "        vertical-align: top;\n",
       "    }\n",
       "\n",
       "    .dataframe thead th {\n",
       "        text-align: right;\n",
       "    }\n",
       "</style>\n",
       "<table border=\"1\" class=\"dataframe\">\n",
       "  <thead>\n",
       "    <tr style=\"text-align: right;\">\n",
       "      <th></th>\n",
       "      <th>year</th>\n",
       "      <th>origin</th>\n",
       "      <th>state</th>\n",
       "      <th>city</th>\n",
       "      <th>arrivals</th>\n",
       "    </tr>\n",
       "  </thead>\n",
       "  <tbody>\n",
       "    <tr>\n",
       "      <th>267</th>\n",
       "      <td>2005-01-01</td>\n",
       "      <td>Iraq</td>\n",
       "      <td>Alabama</td>\n",
       "      <td>Birmingham</td>\n",
       "      <td>0</td>\n",
       "    </tr>\n",
       "    <tr>\n",
       "      <th>268</th>\n",
       "      <td>2006-01-01</td>\n",
       "      <td>Iraq</td>\n",
       "      <td>Alabama</td>\n",
       "      <td>Birmingham</td>\n",
       "      <td>0</td>\n",
       "    </tr>\n",
       "    <tr>\n",
       "      <th>269</th>\n",
       "      <td>2007-01-01</td>\n",
       "      <td>Iraq</td>\n",
       "      <td>Alabama</td>\n",
       "      <td>Birmingham</td>\n",
       "      <td>0</td>\n",
       "    </tr>\n",
       "    <tr>\n",
       "      <th>270</th>\n",
       "      <td>2008-01-01</td>\n",
       "      <td>Iraq</td>\n",
       "      <td>Alabama</td>\n",
       "      <td>Birmingham</td>\n",
       "      <td>6</td>\n",
       "    </tr>\n",
       "    <tr>\n",
       "      <th>271</th>\n",
       "      <td>2009-01-01</td>\n",
       "      <td>Iraq</td>\n",
       "      <td>Alabama</td>\n",
       "      <td>Birmingham</td>\n",
       "      <td>0</td>\n",
       "    </tr>\n",
       "    <tr>\n",
       "      <th>...</th>\n",
       "      <td>...</td>\n",
       "      <td>...</td>\n",
       "      <td>...</td>\n",
       "      <td>...</td>\n",
       "      <td>...</td>\n",
       "    </tr>\n",
       "    <tr>\n",
       "      <th>120503</th>\n",
       "      <td>2011-01-01</td>\n",
       "      <td>Iraq</td>\n",
       "      <td>Wisconsin</td>\n",
       "      <td>Wauwatosa</td>\n",
       "      <td>0</td>\n",
       "    </tr>\n",
       "    <tr>\n",
       "      <th>120504</th>\n",
       "      <td>2012-01-01</td>\n",
       "      <td>Iraq</td>\n",
       "      <td>Wisconsin</td>\n",
       "      <td>Wauwatosa</td>\n",
       "      <td>0</td>\n",
       "    </tr>\n",
       "    <tr>\n",
       "      <th>120505</th>\n",
       "      <td>2013-01-01</td>\n",
       "      <td>Iraq</td>\n",
       "      <td>Wisconsin</td>\n",
       "      <td>Wauwatosa</td>\n",
       "      <td>2</td>\n",
       "    </tr>\n",
       "    <tr>\n",
       "      <th>120506</th>\n",
       "      <td>2014-01-01</td>\n",
       "      <td>Iraq</td>\n",
       "      <td>Wisconsin</td>\n",
       "      <td>Wauwatosa</td>\n",
       "      <td>0</td>\n",
       "    </tr>\n",
       "    <tr>\n",
       "      <th>120507</th>\n",
       "      <td>2015-01-01</td>\n",
       "      <td>Iraq</td>\n",
       "      <td>Wisconsin</td>\n",
       "      <td>Wauwatosa</td>\n",
       "      <td>6</td>\n",
       "    </tr>\n",
       "  </tbody>\n",
       "</table>\n",
       "<p>18205 rows × 5 columns</p>\n",
       "</div>"
      ],
      "text/plain": [
       "             year origin      state        city  arrivals\n",
       "267    2005-01-01   Iraq    Alabama  Birmingham         0\n",
       "268    2006-01-01   Iraq    Alabama  Birmingham         0\n",
       "269    2007-01-01   Iraq    Alabama  Birmingham         0\n",
       "270    2008-01-01   Iraq    Alabama  Birmingham         6\n",
       "271    2009-01-01   Iraq    Alabama  Birmingham         0\n",
       "...           ...    ...        ...         ...       ...\n",
       "120503 2011-01-01   Iraq  Wisconsin   Wauwatosa         0\n",
       "120504 2012-01-01   Iraq  Wisconsin   Wauwatosa         0\n",
       "120505 2013-01-01   Iraq  Wisconsin   Wauwatosa         2\n",
       "120506 2014-01-01   Iraq  Wisconsin   Wauwatosa         0\n",
       "120507 2015-01-01   Iraq  Wisconsin   Wauwatosa         6\n",
       "\n",
       "[18205 rows x 5 columns]"
      ]
     },
     "execution_count": 27,
     "metadata": {},
     "output_type": "execute_result"
    }
   ],
   "source": [
    "refugee_iraq_df"
   ]
  },
  {
   "cell_type": "markdown",
   "id": "qvAf9EVJ1o8U",
   "metadata": {
    "id": "qvAf9EVJ1o8U"
   },
   "source": [
    "We stored our results in a new variable `refugee_iraq_df`\n",
    "\n",
    "### Drop Rows\n",
    "If we wanted to exclude all rows containing the value “Iraq”, we could run the following command:"
   ]
  },
  {
   "cell_type": "code",
   "execution_count": 28,
   "id": "koEgzyXq1o8V",
   "metadata": {
    "id": "koEgzyXq1o8V"
   },
   "outputs": [],
   "source": [
    "refugee_drop_iraq_df = refugee_df[refugee_df['origin'] != 'Iraq']"
   ]
  },
  {
   "cell_type": "code",
   "execution_count": 29,
   "id": "2hH5eDyp1o8V",
   "metadata": {
    "id": "2hH5eDyp1o8V",
    "outputId": "3c7a6a9b-f08a-47dd-e898-0beb263bcb20"
   },
   "outputs": [
    {
     "data": {
      "text/html": [
       "<div>\n",
       "<style scoped>\n",
       "    .dataframe tbody tr th:only-of-type {\n",
       "        vertical-align: middle;\n",
       "    }\n",
       "\n",
       "    .dataframe tbody tr th {\n",
       "        vertical-align: top;\n",
       "    }\n",
       "\n",
       "    .dataframe thead th {\n",
       "        text-align: right;\n",
       "    }\n",
       "</style>\n",
       "<table border=\"1\" class=\"dataframe\">\n",
       "  <thead>\n",
       "    <tr style=\"text-align: right;\">\n",
       "      <th></th>\n",
       "      <th>year</th>\n",
       "      <th>origin</th>\n",
       "      <th>state</th>\n",
       "      <th>city</th>\n",
       "      <th>arrivals</th>\n",
       "    </tr>\n",
       "  </thead>\n",
       "  <tbody>\n",
       "    <tr>\n",
       "      <th>0</th>\n",
       "      <td>2005-01-01</td>\n",
       "      <td>Afghanistan</td>\n",
       "      <td>Alabama</td>\n",
       "      <td>Mobile</td>\n",
       "      <td>0</td>\n",
       "    </tr>\n",
       "    <tr>\n",
       "      <th>1</th>\n",
       "      <td>2006-01-01</td>\n",
       "      <td>Afghanistan</td>\n",
       "      <td>Alabama</td>\n",
       "      <td>Mobile</td>\n",
       "      <td>0</td>\n",
       "    </tr>\n",
       "    <tr>\n",
       "      <th>2</th>\n",
       "      <td>2007-01-01</td>\n",
       "      <td>Afghanistan</td>\n",
       "      <td>Alabama</td>\n",
       "      <td>Mobile</td>\n",
       "      <td>0</td>\n",
       "    </tr>\n",
       "    <tr>\n",
       "      <th>3</th>\n",
       "      <td>2008-01-01</td>\n",
       "      <td>Afghanistan</td>\n",
       "      <td>Alabama</td>\n",
       "      <td>Mobile</td>\n",
       "      <td>0</td>\n",
       "    </tr>\n",
       "    <tr>\n",
       "      <th>4</th>\n",
       "      <td>2009-01-01</td>\n",
       "      <td>Afghanistan</td>\n",
       "      <td>Alabama</td>\n",
       "      <td>Mobile</td>\n",
       "      <td>5</td>\n",
       "    </tr>\n",
       "    <tr>\n",
       "      <th>...</th>\n",
       "      <td>...</td>\n",
       "      <td>...</td>\n",
       "      <td>...</td>\n",
       "      <td>...</td>\n",
       "      <td>...</td>\n",
       "    </tr>\n",
       "    <tr>\n",
       "      <th>121240</th>\n",
       "      <td>2011-01-01</td>\n",
       "      <td>Vietnam</td>\n",
       "      <td>Wisconsin</td>\n",
       "      <td>Milwaukee</td>\n",
       "      <td>0</td>\n",
       "    </tr>\n",
       "    <tr>\n",
       "      <th>121241</th>\n",
       "      <td>2012-01-01</td>\n",
       "      <td>Vietnam</td>\n",
       "      <td>Wisconsin</td>\n",
       "      <td>Milwaukee</td>\n",
       "      <td>4</td>\n",
       "    </tr>\n",
       "    <tr>\n",
       "      <th>121242</th>\n",
       "      <td>2013-01-01</td>\n",
       "      <td>Vietnam</td>\n",
       "      <td>Wisconsin</td>\n",
       "      <td>Milwaukee</td>\n",
       "      <td>2</td>\n",
       "    </tr>\n",
       "    <tr>\n",
       "      <th>121243</th>\n",
       "      <td>2014-01-01</td>\n",
       "      <td>Vietnam</td>\n",
       "      <td>Wisconsin</td>\n",
       "      <td>Milwaukee</td>\n",
       "      <td>0</td>\n",
       "    </tr>\n",
       "    <tr>\n",
       "      <th>121244</th>\n",
       "      <td>2015-01-01</td>\n",
       "      <td>Vietnam</td>\n",
       "      <td>Wisconsin</td>\n",
       "      <td>Milwaukee</td>\n",
       "      <td>0</td>\n",
       "    </tr>\n",
       "  </tbody>\n",
       "</table>\n",
       "<p>103026 rows × 5 columns</p>\n",
       "</div>"
      ],
      "text/plain": [
       "             year       origin      state       city  arrivals\n",
       "0      2005-01-01  Afghanistan    Alabama     Mobile         0\n",
       "1      2006-01-01  Afghanistan    Alabama     Mobile         0\n",
       "2      2007-01-01  Afghanistan    Alabama     Mobile         0\n",
       "3      2008-01-01  Afghanistan    Alabama     Mobile         0\n",
       "4      2009-01-01  Afghanistan    Alabama     Mobile         5\n",
       "...           ...          ...        ...        ...       ...\n",
       "121240 2011-01-01      Vietnam  Wisconsin  Milwaukee         0\n",
       "121241 2012-01-01      Vietnam  Wisconsin  Milwaukee         4\n",
       "121242 2013-01-01      Vietnam  Wisconsin  Milwaukee         2\n",
       "121243 2014-01-01      Vietnam  Wisconsin  Milwaukee         0\n",
       "121244 2015-01-01      Vietnam  Wisconsin  Milwaukee         0\n",
       "\n",
       "[103026 rows x 5 columns]"
      ]
     },
     "execution_count": 29,
     "metadata": {},
     "output_type": "execute_result"
    }
   ],
   "source": [
    "refugee_drop_iraq_df"
   ]
  },
  {
   "cell_type": "markdown",
   "id": "ygBEyKBk1o8V",
   "metadata": {
    "id": "ygBEyKBk1o8V"
   },
   "source": [
    "### Add columns\n",
    "\n",
    "We can also add columns to the DataFrame. For example, we can add a `percent_total` column to calculate the percentage of total refugee arrivals for each row.   "
   ]
  },
  {
   "cell_type": "code",
   "execution_count": 30,
   "id": "ziguGkdb1o8V",
   "metadata": {
    "id": "ziguGkdb1o8V"
   },
   "outputs": [],
   "source": [
    "refugee_df['percent_total'] = (refugee_df['arrivals'] / refugee_df['arrivals'].sum())*100"
   ]
  },
  {
   "cell_type": "code",
   "execution_count": 31,
   "id": "cjjT6eXg1o8V",
   "metadata": {
    "id": "cjjT6eXg1o8V",
    "outputId": "1163e363-8a76-446f-b5d7-1e101c828e2f"
   },
   "outputs": [
    {
     "data": {
      "text/html": [
       "<div>\n",
       "<style scoped>\n",
       "    .dataframe tbody tr th:only-of-type {\n",
       "        vertical-align: middle;\n",
       "    }\n",
       "\n",
       "    .dataframe tbody tr th {\n",
       "        vertical-align: top;\n",
       "    }\n",
       "\n",
       "    .dataframe thead th {\n",
       "        text-align: right;\n",
       "    }\n",
       "</style>\n",
       "<table border=\"1\" class=\"dataframe\">\n",
       "  <thead>\n",
       "    <tr style=\"text-align: right;\">\n",
       "      <th></th>\n",
       "      <th>year</th>\n",
       "      <th>origin</th>\n",
       "      <th>state</th>\n",
       "      <th>city</th>\n",
       "      <th>arrivals</th>\n",
       "      <th>percent_total</th>\n",
       "    </tr>\n",
       "  </thead>\n",
       "  <tbody>\n",
       "    <tr>\n",
       "      <th>0</th>\n",
       "      <td>2005-01-01</td>\n",
       "      <td>Afghanistan</td>\n",
       "      <td>Alabama</td>\n",
       "      <td>Mobile</td>\n",
       "      <td>0</td>\n",
       "      <td>0.000000</td>\n",
       "    </tr>\n",
       "    <tr>\n",
       "      <th>1</th>\n",
       "      <td>2006-01-01</td>\n",
       "      <td>Afghanistan</td>\n",
       "      <td>Alabama</td>\n",
       "      <td>Mobile</td>\n",
       "      <td>0</td>\n",
       "      <td>0.000000</td>\n",
       "    </tr>\n",
       "    <tr>\n",
       "      <th>2</th>\n",
       "      <td>2007-01-01</td>\n",
       "      <td>Afghanistan</td>\n",
       "      <td>Alabama</td>\n",
       "      <td>Mobile</td>\n",
       "      <td>0</td>\n",
       "      <td>0.000000</td>\n",
       "    </tr>\n",
       "    <tr>\n",
       "      <th>3</th>\n",
       "      <td>2008-01-01</td>\n",
       "      <td>Afghanistan</td>\n",
       "      <td>Alabama</td>\n",
       "      <td>Mobile</td>\n",
       "      <td>0</td>\n",
       "      <td>0.000000</td>\n",
       "    </tr>\n",
       "    <tr>\n",
       "      <th>4</th>\n",
       "      <td>2009-01-01</td>\n",
       "      <td>Afghanistan</td>\n",
       "      <td>Alabama</td>\n",
       "      <td>Mobile</td>\n",
       "      <td>5</td>\n",
       "      <td>0.000743</td>\n",
       "    </tr>\n",
       "    <tr>\n",
       "      <th>...</th>\n",
       "      <td>...</td>\n",
       "      <td>...</td>\n",
       "      <td>...</td>\n",
       "      <td>...</td>\n",
       "      <td>...</td>\n",
       "      <td>...</td>\n",
       "    </tr>\n",
       "    <tr>\n",
       "      <th>121240</th>\n",
       "      <td>2011-01-01</td>\n",
       "      <td>Vietnam</td>\n",
       "      <td>Wisconsin</td>\n",
       "      <td>Milwaukee</td>\n",
       "      <td>0</td>\n",
       "      <td>0.000000</td>\n",
       "    </tr>\n",
       "    <tr>\n",
       "      <th>121241</th>\n",
       "      <td>2012-01-01</td>\n",
       "      <td>Vietnam</td>\n",
       "      <td>Wisconsin</td>\n",
       "      <td>Milwaukee</td>\n",
       "      <td>4</td>\n",
       "      <td>0.000595</td>\n",
       "    </tr>\n",
       "    <tr>\n",
       "      <th>121242</th>\n",
       "      <td>2013-01-01</td>\n",
       "      <td>Vietnam</td>\n",
       "      <td>Wisconsin</td>\n",
       "      <td>Milwaukee</td>\n",
       "      <td>2</td>\n",
       "      <td>0.000297</td>\n",
       "    </tr>\n",
       "    <tr>\n",
       "      <th>121243</th>\n",
       "      <td>2014-01-01</td>\n",
       "      <td>Vietnam</td>\n",
       "      <td>Wisconsin</td>\n",
       "      <td>Milwaukee</td>\n",
       "      <td>0</td>\n",
       "      <td>0.000000</td>\n",
       "    </tr>\n",
       "    <tr>\n",
       "      <th>121244</th>\n",
       "      <td>2015-01-01</td>\n",
       "      <td>Vietnam</td>\n",
       "      <td>Wisconsin</td>\n",
       "      <td>Milwaukee</td>\n",
       "      <td>0</td>\n",
       "      <td>0.000000</td>\n",
       "    </tr>\n",
       "  </tbody>\n",
       "</table>\n",
       "<p>121231 rows × 6 columns</p>\n",
       "</div>"
      ],
      "text/plain": [
       "             year       origin      state       city  arrivals  percent_total\n",
       "0      2005-01-01  Afghanistan    Alabama     Mobile         0       0.000000\n",
       "1      2006-01-01  Afghanistan    Alabama     Mobile         0       0.000000\n",
       "2      2007-01-01  Afghanistan    Alabama     Mobile         0       0.000000\n",
       "3      2008-01-01  Afghanistan    Alabama     Mobile         0       0.000000\n",
       "4      2009-01-01  Afghanistan    Alabama     Mobile         5       0.000743\n",
       "...           ...          ...        ...        ...       ...            ...\n",
       "121240 2011-01-01      Vietnam  Wisconsin  Milwaukee         0       0.000000\n",
       "121241 2012-01-01      Vietnam  Wisconsin  Milwaukee         4       0.000595\n",
       "121242 2013-01-01      Vietnam  Wisconsin  Milwaukee         2       0.000297\n",
       "121243 2014-01-01      Vietnam  Wisconsin  Milwaukee         0       0.000000\n",
       "121244 2015-01-01      Vietnam  Wisconsin  Milwaukee         0       0.000000\n",
       "\n",
       "[121231 rows x 6 columns]"
      ]
     },
     "execution_count": 31,
     "metadata": {},
     "output_type": "execute_result"
    }
   ],
   "source": [
    "refugee_df"
   ]
  },
  {
   "cell_type": "markdown",
   "id": "VeESiwbk1o8V",
   "metadata": {
    "id": "VeESiwbk1o8V"
   },
   "source": [
    "*_Note: `refugee_df['arrivals'].sum()` calculates the sum of all the values in the arrivals column._\n",
    "\n",
    "\n",
    "\n",
    "You can read the command we just ran as: create a new column that calculates the number of arrivals in a row divided by the total number of arrivals in the dataset, times 100. The result of this calculation will equal the percentage of total refugee arrivals for each row."
   ]
  },
  {
   "cell_type": "markdown",
   "id": "gnByKqm_1o8V",
   "metadata": {
    "id": "gnByKqm_1o8V"
   },
   "source": [
    "## Sort Columns, Groupby Columns, & Calculations\n",
    "\n",
    "### Stacking requests\n",
    "\n",
    "In this lesson, we will be using commands that stack various requests such as methods, parameters, operators, and more to define the command. Pandas encourages this kind of stacking, but it can seem overwhelming at first to beginners. For example, as we will see below, a command could include two or more methods that stack on top of each other, and end with a slice operator to view only the top N rows of the results. In addition, a command can include specific parameters to call out a particular column or to sort the data in descending order.\n",
    "\n",
    "We will move slowly through each of the following commands to break them down.\n",
    "\n",
    "### Sort columns\n",
    "\n",
    "To sort a DataFrame, we can use the `.sort_values()` method with the parameter by= and including the name of the column we want to sort by written in quotation marks.\n",
    "\n",
    "For example, we can sort the DataFrame by the arrivals column:"
   ]
  },
  {
   "cell_type": "code",
   "execution_count": 32,
   "id": "DF7jsll11o8V",
   "metadata": {
    "id": "DF7jsll11o8V",
    "outputId": "612f870f-0922-4b6c-e948-9b8f26e2763a"
   },
   "outputs": [
    {
     "data": {
      "text/html": [
       "<div>\n",
       "<style scoped>\n",
       "    .dataframe tbody tr th:only-of-type {\n",
       "        vertical-align: middle;\n",
       "    }\n",
       "\n",
       "    .dataframe tbody tr th {\n",
       "        vertical-align: top;\n",
       "    }\n",
       "\n",
       "    .dataframe thead th {\n",
       "        text-align: right;\n",
       "    }\n",
       "</style>\n",
       "<table border=\"1\" class=\"dataframe\">\n",
       "  <thead>\n",
       "    <tr style=\"text-align: right;\">\n",
       "      <th></th>\n",
       "      <th>year</th>\n",
       "      <th>origin</th>\n",
       "      <th>state</th>\n",
       "      <th>city</th>\n",
       "      <th>arrivals</th>\n",
       "      <th>percent_total</th>\n",
       "    </tr>\n",
       "  </thead>\n",
       "  <tbody>\n",
       "    <tr>\n",
       "      <th>11359</th>\n",
       "      <td>2009-01-01</td>\n",
       "      <td>Iraq</td>\n",
       "      <td>California</td>\n",
       "      <td>El Cajon</td>\n",
       "      <td>2813</td>\n",
       "      <td>0.418279</td>\n",
       "    </tr>\n",
       "    <tr>\n",
       "      <th>8718</th>\n",
       "      <td>2008-01-01</td>\n",
       "      <td>Iran</td>\n",
       "      <td>California</td>\n",
       "      <td>Glendale</td>\n",
       "      <td>2025</td>\n",
       "      <td>0.301107</td>\n",
       "    </tr>\n",
       "    <tr>\n",
       "      <th>11360</th>\n",
       "      <td>2010-01-01</td>\n",
       "      <td>Iraq</td>\n",
       "      <td>California</td>\n",
       "      <td>El Cajon</td>\n",
       "      <td>1811</td>\n",
       "      <td>0.269286</td>\n",
       "    </tr>\n",
       "    <tr>\n",
       "      <th>8719</th>\n",
       "      <td>2009-01-01</td>\n",
       "      <td>Iran</td>\n",
       "      <td>California</td>\n",
       "      <td>Glendale</td>\n",
       "      <td>1722</td>\n",
       "      <td>0.256053</td>\n",
       "    </tr>\n",
       "    <tr>\n",
       "      <th>58761</th>\n",
       "      <td>2012-01-01</td>\n",
       "      <td>Iraq</td>\n",
       "      <td>Michigan</td>\n",
       "      <td>Southfield</td>\n",
       "      <td>1720</td>\n",
       "      <td>0.255755</td>\n",
       "    </tr>\n",
       "    <tr>\n",
       "      <th>11362</th>\n",
       "      <td>2012-01-01</td>\n",
       "      <td>Iraq</td>\n",
       "      <td>California</td>\n",
       "      <td>El Cajon</td>\n",
       "      <td>1698</td>\n",
       "      <td>0.252484</td>\n",
       "    </tr>\n",
       "    <tr>\n",
       "      <th>8717</th>\n",
       "      <td>2007-01-01</td>\n",
       "      <td>Iran</td>\n",
       "      <td>California</td>\n",
       "      <td>Glendale</td>\n",
       "      <td>1637</td>\n",
       "      <td>0.243414</td>\n",
       "    </tr>\n",
       "    <tr>\n",
       "      <th>64090</th>\n",
       "      <td>2006-01-01</td>\n",
       "      <td>Somalia</td>\n",
       "      <td>Minnesota</td>\n",
       "      <td>Minneapolis</td>\n",
       "      <td>1586</td>\n",
       "      <td>0.235830</td>\n",
       "    </tr>\n",
       "    <tr>\n",
       "      <th>11358</th>\n",
       "      <td>2008-01-01</td>\n",
       "      <td>Iraq</td>\n",
       "      <td>California</td>\n",
       "      <td>El Cajon</td>\n",
       "      <td>1569</td>\n",
       "      <td>0.233302</td>\n",
       "    </tr>\n",
       "    <tr>\n",
       "      <th>25699</th>\n",
       "      <td>2005-01-01</td>\n",
       "      <td>Cuba</td>\n",
       "      <td>Florida</td>\n",
       "      <td>Miami</td>\n",
       "      <td>1537</td>\n",
       "      <td>0.228544</td>\n",
       "    </tr>\n",
       "    <tr>\n",
       "      <th>87927</th>\n",
       "      <td>2006-01-01</td>\n",
       "      <td>Somalia</td>\n",
       "      <td>Ohio</td>\n",
       "      <td>Columbus</td>\n",
       "      <td>1319</td>\n",
       "      <td>0.196129</td>\n",
       "    </tr>\n",
       "    <tr>\n",
       "      <th>11363</th>\n",
       "      <td>2013-01-01</td>\n",
       "      <td>Iraq</td>\n",
       "      <td>California</td>\n",
       "      <td>El Cajon</td>\n",
       "      <td>1238</td>\n",
       "      <td>0.184084</td>\n",
       "    </tr>\n",
       "    <tr>\n",
       "      <th>40503</th>\n",
       "      <td>2014-01-01</td>\n",
       "      <td>Burma</td>\n",
       "      <td>Indiana</td>\n",
       "      <td>Indianapolis</td>\n",
       "      <td>1211</td>\n",
       "      <td>0.180070</td>\n",
       "    </tr>\n",
       "    <tr>\n",
       "      <th>25704</th>\n",
       "      <td>2010-01-01</td>\n",
       "      <td>Cuba</td>\n",
       "      <td>Florida</td>\n",
       "      <td>Miami</td>\n",
       "      <td>1151</td>\n",
       "      <td>0.171148</td>\n",
       "    </tr>\n",
       "    <tr>\n",
       "      <th>58829</th>\n",
       "      <td>2014-01-01</td>\n",
       "      <td>Iraq</td>\n",
       "      <td>Michigan</td>\n",
       "      <td>Troy</td>\n",
       "      <td>1095</td>\n",
       "      <td>0.162821</td>\n",
       "    </tr>\n",
       "  </tbody>\n",
       "</table>\n",
       "</div>"
      ],
      "text/plain": [
       "            year   origin       state          city  arrivals  percent_total\n",
       "11359 2009-01-01     Iraq  California      El Cajon      2813       0.418279\n",
       "8718  2008-01-01     Iran  California      Glendale      2025       0.301107\n",
       "11360 2010-01-01     Iraq  California      El Cajon      1811       0.269286\n",
       "8719  2009-01-01     Iran  California      Glendale      1722       0.256053\n",
       "58761 2012-01-01     Iraq    Michigan    Southfield      1720       0.255755\n",
       "11362 2012-01-01     Iraq  California      El Cajon      1698       0.252484\n",
       "8717  2007-01-01     Iran  California      Glendale      1637       0.243414\n",
       "64090 2006-01-01  Somalia   Minnesota   Minneapolis      1586       0.235830\n",
       "11358 2008-01-01     Iraq  California      El Cajon      1569       0.233302\n",
       "25699 2005-01-01     Cuba     Florida         Miami      1537       0.228544\n",
       "87927 2006-01-01  Somalia        Ohio      Columbus      1319       0.196129\n",
       "11363 2013-01-01     Iraq  California      El Cajon      1238       0.184084\n",
       "40503 2014-01-01    Burma     Indiana  Indianapolis      1211       0.180070\n",
       "25704 2010-01-01     Cuba     Florida         Miami      1151       0.171148\n",
       "58829 2014-01-01     Iraq    Michigan          Troy      1095       0.162821"
      ]
     },
     "execution_count": 32,
     "metadata": {},
     "output_type": "execute_result"
    }
   ],
   "source": [
    "refugee_df.sort_values(by='arrivals', ascending=False)[:15]"
   ]
  },
  {
   "cell_type": "markdown",
   "id": "FZtofF9X1o8V",
   "metadata": {
    "id": "FZtofF9X1o8V"
   },
   "source": [
    "Note: In the command above, we used the `by=` parameter to specify that the data be sorted according to the `arrivals` column and we added the `ascending=False` parameter in order to request that the data be displayed with the highest number first. By default, Pandas will sort in `ascending` order, meaning from the smallest value to the largest value. We also added a Python list slice (i.e., [:15]) to view just the top 15 rows.\n",
    "\n",
    "### Groupby Columns\n",
    "\n",
    "We can group data and perform calculations on the groups using the `.groupby()` method. For example, to see the breakdown of the number of arrivals by country of origin, we can use the following command:"
   ]
  },
  {
   "cell_type": "code",
   "execution_count": 33,
   "id": "wxW9uIfG1o8V",
   "metadata": {
    "id": "wxW9uIfG1o8V",
    "outputId": "f5c34eab-5eea-4842-b41f-7db14e212199"
   },
   "outputs": [
    {
     "data": {
      "text/plain": [
       "<pandas.core.groupby.generic.DataFrameGroupBy object at 0x7fb13148c310>"
      ]
     },
     "execution_count": 33,
     "metadata": {},
     "output_type": "execute_result"
    }
   ],
   "source": [
    "refugee_df.groupby('origin')"
   ]
  },
  {
   "cell_type": "markdown",
   "id": "bgEtFgUp1o8V",
   "metadata": {
    "id": "bgEtFgUp1o8V"
   },
   "source": [
    "This command created a Groupby object—grouped data that we can use to perform calculations such as counting the number of non-blank values in each column for each arrival by country of origin.\n",
    "\n",
    "Next, we will use the following command to sum the number of refugee arrivals by country of origin, with the output showing the top twenty rows sorted by descending order:"
   ]
  },
  {
   "cell_type": "code",
   "execution_count": 34,
   "id": "tSEJCyyi1o8W",
   "metadata": {
    "id": "tSEJCyyi1o8W",
    "outputId": "d93d2a25-a0cc-4a5d-c75c-48881143a5df"
   },
   "outputs": [
    {
     "data": {
      "text/plain": [
       "origin\n",
       "Burma              151875\n",
       "Iraq               127326\n",
       "Bhutan              85316\n",
       "Somalia             71120\n",
       "Cuba                39946\n",
       "Iran                36683\n",
       "Dem. Rep. Congo     25493\n",
       "Russia              15656\n",
       "Eritrea             14645\n",
       "Sudan               12636\n",
       "Ukraine             11727\n",
       "Burundi             11152\n",
       "Vietnam             10769\n",
       "Liberia              9424\n",
       "Ethiopia             8487\n",
       "Afghanistan          6751\n",
       "Laos                 6609\n",
       "Moldova              4482\n",
       "Syria                2359\n",
       "Colombia             1956\n",
       "Name: arrivals, dtype: int64"
      ]
     },
     "execution_count": 34,
     "metadata": {},
     "output_type": "execute_result"
    }
   ],
   "source": [
    "refugee_df.groupby('origin')['arrivals'].sum().sort_values(ascending=False)[:20]"
   ]
  },
  {
   "cell_type": "markdown",
   "id": "NWu6RHdS1o8W",
   "metadata": {
    "id": "NWu6RHdS1o8W"
   },
   "source": [
    "These results show us the total number of arrivals by country of origin across the 2005-2015 period, in descending order, sliced for the top 20 results.\n",
    "\n",
    "Let’s unpack the command to better understand these results:\n",
    "\n",
    "\n",
    "\n",
    "* We have three stacked methods here: .groupby(), .count(), and .sort_values().\n",
    "* groupby('origin')['arrivals']: For the Groupby object we defined in the previous step, groupby(‘origin’), we are isolating the “arrivals” column. Basically, we are asking to view the number of refugee arrivals by country of origin.\n",
    "* .sum(): This method adds non-blank cells for each column or row. The results we see in the output show the total number of refugee arrivals by country of origin.\n",
    "* .sort_values(ascending=False): This method specifies how we want our output to be sorted. We include the ascending=False parameter in order to request that the data be displayed with the highest percentage first.\n",
    "* [:20]: This Python slide specifies that we just want to see the top 20 rows.\n",
    "\n",
    "### Convert Series Object to Dataframe\n",
    "You will notice that our output is not a Dataframe. Instead, it's a Series Object, which doesn't allow us to select data or make further calculations on the data. We can convert it to a Dataframe by first storing the command above in a new variable and stacking two extra commands\" `to_frame` and `reset_index`:"
   ]
  },
  {
   "cell_type": "code",
   "execution_count": 35,
   "id": "Z6BRn2Qh1o8W",
   "metadata": {
    "id": "Z6BRn2Qh1o8W",
    "outputId": "8396f9de-bd3a-4177-f479-7c4f69090388"
   },
   "outputs": [
    {
     "data": {
      "text/html": [
       "<div>\n",
       "<style scoped>\n",
       "    .dataframe tbody tr th:only-of-type {\n",
       "        vertical-align: middle;\n",
       "    }\n",
       "\n",
       "    .dataframe tbody tr th {\n",
       "        vertical-align: top;\n",
       "    }\n",
       "\n",
       "    .dataframe thead th {\n",
       "        text-align: right;\n",
       "    }\n",
       "</style>\n",
       "<table border=\"1\" class=\"dataframe\">\n",
       "  <thead>\n",
       "    <tr style=\"text-align: right;\">\n",
       "      <th></th>\n",
       "      <th>origin</th>\n",
       "      <th>arrivals</th>\n",
       "    </tr>\n",
       "  </thead>\n",
       "  <tbody>\n",
       "    <tr>\n",
       "      <th>0</th>\n",
       "      <td>Burma</td>\n",
       "      <td>151875</td>\n",
       "    </tr>\n",
       "    <tr>\n",
       "      <th>1</th>\n",
       "      <td>Iraq</td>\n",
       "      <td>127326</td>\n",
       "    </tr>\n",
       "    <tr>\n",
       "      <th>2</th>\n",
       "      <td>Bhutan</td>\n",
       "      <td>85316</td>\n",
       "    </tr>\n",
       "    <tr>\n",
       "      <th>3</th>\n",
       "      <td>Somalia</td>\n",
       "      <td>71120</td>\n",
       "    </tr>\n",
       "    <tr>\n",
       "      <th>4</th>\n",
       "      <td>Cuba</td>\n",
       "      <td>39946</td>\n",
       "    </tr>\n",
       "    <tr>\n",
       "      <th>5</th>\n",
       "      <td>Iran</td>\n",
       "      <td>36683</td>\n",
       "    </tr>\n",
       "    <tr>\n",
       "      <th>6</th>\n",
       "      <td>Dem. Rep. Congo</td>\n",
       "      <td>25493</td>\n",
       "    </tr>\n",
       "    <tr>\n",
       "      <th>7</th>\n",
       "      <td>Russia</td>\n",
       "      <td>15656</td>\n",
       "    </tr>\n",
       "    <tr>\n",
       "      <th>8</th>\n",
       "      <td>Eritrea</td>\n",
       "      <td>14645</td>\n",
       "    </tr>\n",
       "    <tr>\n",
       "      <th>9</th>\n",
       "      <td>Sudan</td>\n",
       "      <td>12636</td>\n",
       "    </tr>\n",
       "    <tr>\n",
       "      <th>10</th>\n",
       "      <td>Ukraine</td>\n",
       "      <td>11727</td>\n",
       "    </tr>\n",
       "    <tr>\n",
       "      <th>11</th>\n",
       "      <td>Burundi</td>\n",
       "      <td>11152</td>\n",
       "    </tr>\n",
       "    <tr>\n",
       "      <th>12</th>\n",
       "      <td>Vietnam</td>\n",
       "      <td>10769</td>\n",
       "    </tr>\n",
       "    <tr>\n",
       "      <th>13</th>\n",
       "      <td>Liberia</td>\n",
       "      <td>9424</td>\n",
       "    </tr>\n",
       "    <tr>\n",
       "      <th>14</th>\n",
       "      <td>Ethiopia</td>\n",
       "      <td>8487</td>\n",
       "    </tr>\n",
       "    <tr>\n",
       "      <th>15</th>\n",
       "      <td>Afghanistan</td>\n",
       "      <td>6751</td>\n",
       "    </tr>\n",
       "    <tr>\n",
       "      <th>16</th>\n",
       "      <td>Laos</td>\n",
       "      <td>6609</td>\n",
       "    </tr>\n",
       "    <tr>\n",
       "      <th>17</th>\n",
       "      <td>Moldova</td>\n",
       "      <td>4482</td>\n",
       "    </tr>\n",
       "    <tr>\n",
       "      <th>18</th>\n",
       "      <td>Syria</td>\n",
       "      <td>2359</td>\n",
       "    </tr>\n",
       "    <tr>\n",
       "      <th>19</th>\n",
       "      <td>Colombia</td>\n",
       "      <td>1956</td>\n",
       "    </tr>\n",
       "  </tbody>\n",
       "</table>\n",
       "</div>"
      ],
      "text/plain": [
       "             origin  arrivals\n",
       "0             Burma    151875\n",
       "1              Iraq    127326\n",
       "2            Bhutan     85316\n",
       "3           Somalia     71120\n",
       "4              Cuba     39946\n",
       "5              Iran     36683\n",
       "6   Dem. Rep. Congo     25493\n",
       "7            Russia     15656\n",
       "8           Eritrea     14645\n",
       "9             Sudan     12636\n",
       "10          Ukraine     11727\n",
       "11          Burundi     11152\n",
       "12          Vietnam     10769\n",
       "13          Liberia      9424\n",
       "14         Ethiopia      8487\n",
       "15      Afghanistan      6751\n",
       "16             Laos      6609\n",
       "17          Moldova      4482\n",
       "18            Syria      2359\n",
       "19         Colombia      1956"
      ]
     },
     "execution_count": 35,
     "metadata": {},
     "output_type": "execute_result"
    }
   ],
   "source": [
    "ref_sum_df=refugee_df.groupby('origin')['arrivals'].sum().sort_values(ascending=False)[:20]\n",
    "ref_sum_df = ref_sum_df.to_frame().reset_index()\n",
    "ref_sum_df"
   ]
  },
  {
   "cell_type": "markdown",
   "id": "0K1sdzQj1o8W",
   "metadata": {
    "id": "0K1sdzQj1o8W"
   },
   "source": [
    "## Basic data visualizations\n",
    "\n",
    "To create plots and data visualization in Pandas, we can add the .plot() method to any DataFrame or Series object that has appropriate numeric data.\n",
    "\n",
    "We can specify the title with the title= parameter and the kind of plot by altering the kind= parameter:\n",
    "\n",
    "\n",
    "\n",
    "* ‘bar’ or ‘barh’ for bar plots (h is for horizontal)\n",
    "* ‘hist’ for histogram\n",
    "* ‘box’ for boxplot\n",
    "* ‘kde’ or ‘density’ for density plots\n",
    "* ‘area’ for area plots\n",
    "* ‘scatter’ for scatter plots\n",
    "* ‘hexbin’ for hexagonal bin plots\n",
    "* ‘pie’ for pie plots\n",
    "\n",
    "### Bar Charts\n",
    "For example, we can visualize the data we got from our Groupby command looking at the total number of refugees by country of arrival as a bar chart:"
   ]
  },
  {
   "cell_type": "code",
   "execution_count": 36,
   "id": "nsdviAiK1o8W",
   "metadata": {
    "id": "nsdviAiK1o8W",
    "outputId": "42d27146-1e45-4a37-bc0e-3cc6637bf803"
   },
   "outputs": [
    {
     "data": {
      "text/plain": [
       "<Axes: title={'center': 'Total number of refugee arrivals in the U.S. \\n by country of origin'}, xlabel='origin'>"
      ]
     },
     "execution_count": 36,
     "metadata": {},
     "output_type": "execute_result"
    },
    {
     "data": {
      "image/png": "[encoded data removed]",
      "text/plain": [
       "<Figure size 640x480 with 1 Axes>"
      ]
     },
     "metadata": {},
     "output_type": "display_data"
    }
   ],
   "source": [
    "ref_sum_df.plot(kind='bar', x= 'origin', y='arrivals',\n",
    "                title='Total number of refugee arrivals in the U.S. \\n by country of origin')"
   ]
  },
  {
   "cell_type": "markdown",
   "id": "Q3iG3x7R1o8W",
   "metadata": {
    "id": "Q3iG3x7R1o8W"
   },
   "source": [
    "Let’s unpack the command to better understand these results:\n",
    "\n",
    "* ref_sum_df: This is the variable we created in the previous lesson summing the number of refugee arrivals by country of origin, with the output showing the top twenty rows sorted by descending order\n",
    "* .plot(kind='bar', x= 'origin', y='arrivals', title='Total number of refugee arrivals in the U.S. \\n by country of origin'):\n",
    "    * Here we are using the .plot() method to create a visualization, and we are specifying that we want a bar chart with the “kind=’bar’” parameter.\n",
    "    * We also specify the values for the x axis (orgin) and y axis (arrivals)\n",
    "    * We are also giving the chart a title with the “title='Total number of refugee arrivals in the U.S. \\n by country of origin'” parameter.\n",
    "        * Note: By adding “\\n” in the title text, we signify that the text that follows should be on a new line.\n",
    "\n",
    "### Pie Charts\n",
    "We can also visualize the data as a pie chart:"
   ]
  },
  {
   "cell_type": "code",
   "execution_count": 37,
   "id": "dgoLwV461o8W",
   "metadata": {
    "id": "dgoLwV461o8W",
    "outputId": "3c63018c-e740-4267-d46a-debbff5374d8"
   },
   "outputs": [
    {
     "data": {
      "text/plain": [
       "<Axes: title={'center': 'Refugee arrivals in the U.S.'}, ylabel='arrivals'>"
      ]
     },
     "execution_count": 37,
     "metadata": {},
     "output_type": "execute_result"
    },
    {
     "data": {
      "image/png": "[encoded data removed]",
      "text/plain": [
       "<Figure size 640x480 with 1 Axes>"
      ]
     },
     "metadata": {},
     "output_type": "display_data"
    }
   ],
   "source": [
    "ref_sum_df.set_index('origin')[:10].plot(kind='pie', y='arrivals',\n",
    "                                         title='Refugee arrivals in the U.S.')"
   ]
  },
  {
   "cell_type": "markdown",
   "id": "kgRnlvgo1o8W",
   "metadata": {
    "id": "kgRnlvgo1o8W"
   },
   "source": [
    "- We start by setting the index of the dataframe to the `origin` column. This ensures that our legend will show the country names.\n",
    "- We slice our results to show just the top 10 countries. This makes our chart more legible.\n",
    "- Next, we use the `.plot()` method, specifying `pie` as the type of plot\n",
    "- We also specify the y values - in our case `arrivals`\n",
    "\n",
    "\n",
    "\n",
    "\n",
    "### Time Series\n",
    "\n",
    "We can also create time series using the Groupby method. For example, if we wanted to visualize the total number of refugees resettled in the U.S. across the 2005-2015 period, we would first create a Groupby object based on the “year” column (refer back to lesson 7 for more on Groupby objects).\n",
    "\n"
   ]
  },
  {
   "cell_type": "code",
   "execution_count": 38,
   "id": "Mu-ZTLf-1o8W",
   "metadata": {
    "id": "Mu-ZTLf-1o8W",
    "outputId": "5b000d92-2e1d-48e2-9a0c-8e081d21b743"
   },
   "outputs": [
    {
     "data": {
      "text/plain": [
       "<pandas.core.groupby.generic.DataFrameGroupBy object at 0x7fb13227e4a0>"
      ]
     },
     "execution_count": 38,
     "metadata": {},
     "output_type": "execute_result"
    }
   ],
   "source": [
    "refugee_df.groupby('year')"
   ]
  },
  {
   "cell_type": "markdown",
   "id": "zWK3D5r31o8W",
   "metadata": {
    "id": "zWK3D5r31o8W"
   },
   "source": [
    "Next, we can create a new variable calculating the average number of refugees being resettled over time."
   ]
  },
  {
   "cell_type": "code",
   "execution_count": 39,
   "id": "xYptXYdK1o8W",
   "metadata": {
    "id": "xYptXYdK1o8W"
   },
   "outputs": [],
   "source": [
    "total_arrivals_by_year = refugee_df.groupby('year')['arrivals'].sum()"
   ]
  },
  {
   "cell_type": "markdown",
   "id": "3u4QnYAH1o8X",
   "metadata": {
    "id": "3u4QnYAH1o8X"
   },
   "source": [
    "Let’s break this command down:\n",
    "\n",
    "\n",
    "\n",
    "* We have two stacked methods here: .groupby() and .sum()\n",
    "* groupby('year')['arrivals']: For the Groupby object, groupby(year), we are isolating the “arrivals” column. Basically, we are asking to view the number of refugee arrivals by year.\n",
    "* .sum(): This method returns the sum of the values over the requested axis. In our case, it will calculate the total number of refugee arrivals per year.\n",
    "* We store our results in the `total_arrivals_by_year` variable\n",
    "\n",
    "Finally, we can add the .plot() method to create a line chart."
   ]
  },
  {
   "cell_type": "code",
   "execution_count": 40,
   "id": "t06m_42H1o8X",
   "metadata": {
    "id": "t06m_42H1o8X",
    "outputId": "7c423314-7ba1-49ce-bb67-7eef8f451c27"
   },
   "outputs": [
    {
     "data": {
      "text/plain": [
       "<Axes: title={'center': 'Total Number of Refugee Arrivals by Year'}, xlabel='year'>"
      ]
     },
     "execution_count": 40,
     "metadata": {},
     "output_type": "execute_result"
    },
    {
     "data": {
      "image/png": "[encoded data removed]",
      "text/plain": [
       "<Figure size 640x480 with 1 Axes>"
      ]
     },
     "metadata": {},
     "output_type": "display_data"
    }
   ],
   "source": [
    "total_arrivals_by_year.plot(kind='line', title=\"Total Number of Refugee Arrivals by Year\")"
   ]
  },
  {
   "cell_type": "markdown",
   "id": "GJyvzz8-1o8X",
   "metadata": {
    "id": "GJyvzz8-1o8X"
   },
   "source": [
    "In this command, we are adding the .plot() method to request a chart, and specifying that we want a line graph with the “kind=line” parameter. We are also giving the chart a title with the “title='Total Number of Refugee Arrivals by Year'” parameter.\n",
    "\n",
    "\n",
    "\n",
    "## Write to CSV\n",
    "\n",
    "To output a new CSV file, we can use the .to_csv method with a name for the file in quotation marks. For example, since we added the percent_total column to the refugee_df DataFrame, we may want to download the updated DataFrame as a CSV file to use it with other programs.  "
   ]
  },
  {
   "cell_type": "code",
   "execution_count": 41,
   "id": "l1fLNIQy1o8X",
   "metadata": {
    "id": "l1fLNIQy1o8X"
   },
   "outputs": [],
   "source": [
    "refugee_df.to_csv(\"new_refugee.csv\", encoding='utf-8', index=False)"
   ]
  }
 ],
 "metadata": {
  "_draft": {
   "nbviewer_url": "https://gist.github.com/rskrisel/32d6975bb4fb21fb2d4679b0ce13cee3"
  },
  "colab": {
   "provenance": []
  },
  "gist": {
   "data": {
    "description": "Desktop/projects/pandas_workshop.ipynb",
    "public": true
   },
   "id": "32d6975bb4fb21fb2d4679b0ce13cee3"
  },
  "kernelspec": {
   "display_name": "Python 3 (ipykernel)",
   "language": "python",
   "name": "python3"
  },
  "language_info": {
   "codemirror_mode": {
    "name": "ipython",
    "version": 3
   },
   "file_extension": ".py",
   "mimetype": "text/x-python",
   "name": "python",
   "nbconvert_exporter": "python",
   "pygments_lexer": "ipython3",
   "version": "3.10.9"
  }
 },
 "nbformat": 4,
 "nbformat_minor": 5
}
